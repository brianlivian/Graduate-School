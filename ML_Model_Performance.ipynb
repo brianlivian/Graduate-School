{
 "cells": [
  {
   "cell_type": "markdown",
   "metadata": {},
   "source": [
    "# DAV 6150 Module 5 Assignment - Classification Model Performance Metrics\n",
    "Brian Livian, Alejandra Zapata, Ke Chen"
   ]
  },
  {
   "cell_type": "markdown",
   "metadata": {},
   "source": [
    "#### 1) Load the provided M5_Data.csv file to your DAV 6150 Github Repository.\n",
    "#### 2) Then, using a Jupyter Notebook, read the data set from your Github repository and load it into a Pandas dataframe."
   ]
  },
  {
   "cell_type": "code",
   "execution_count": 1,
   "metadata": {},
   "outputs": [
    {
     "data": {
      "text/html": [
       "<div>\n",
       "<style scoped>\n",
       "    .dataframe tbody tr th:only-of-type {\n",
       "        vertical-align: middle;\n",
       "    }\n",
       "\n",
       "    .dataframe tbody tr th {\n",
       "        vertical-align: top;\n",
       "    }\n",
       "\n",
       "    .dataframe thead th {\n",
       "        text-align: right;\n",
       "    }\n",
       "</style>\n",
       "<table border=\"1\" class=\"dataframe\">\n",
       "  <thead>\n",
       "    <tr style=\"text-align: right;\">\n",
       "      <th></th>\n",
       "      <th>pregnant</th>\n",
       "      <th>glucose</th>\n",
       "      <th>diastolic</th>\n",
       "      <th>skinfold</th>\n",
       "      <th>insulin</th>\n",
       "      <th>bmi</th>\n",
       "      <th>pedigree</th>\n",
       "      <th>age</th>\n",
       "      <th>class</th>\n",
       "      <th>scored.class</th>\n",
       "      <th>scored.probability</th>\n",
       "    </tr>\n",
       "  </thead>\n",
       "  <tbody>\n",
       "    <tr>\n",
       "      <th>0</th>\n",
       "      <td>7</td>\n",
       "      <td>124</td>\n",
       "      <td>70</td>\n",
       "      <td>33</td>\n",
       "      <td>215</td>\n",
       "      <td>25.5</td>\n",
       "      <td>0.161</td>\n",
       "      <td>37</td>\n",
       "      <td>0</td>\n",
       "      <td>0</td>\n",
       "      <td>0.328452</td>\n",
       "    </tr>\n",
       "    <tr>\n",
       "      <th>1</th>\n",
       "      <td>2</td>\n",
       "      <td>122</td>\n",
       "      <td>76</td>\n",
       "      <td>27</td>\n",
       "      <td>200</td>\n",
       "      <td>35.9</td>\n",
       "      <td>0.483</td>\n",
       "      <td>26</td>\n",
       "      <td>0</td>\n",
       "      <td>0</td>\n",
       "      <td>0.273190</td>\n",
       "    </tr>\n",
       "    <tr>\n",
       "      <th>2</th>\n",
       "      <td>3</td>\n",
       "      <td>107</td>\n",
       "      <td>62</td>\n",
       "      <td>13</td>\n",
       "      <td>48</td>\n",
       "      <td>22.9</td>\n",
       "      <td>0.678</td>\n",
       "      <td>23</td>\n",
       "      <td>1</td>\n",
       "      <td>0</td>\n",
       "      <td>0.109660</td>\n",
       "    </tr>\n",
       "    <tr>\n",
       "      <th>3</th>\n",
       "      <td>1</td>\n",
       "      <td>91</td>\n",
       "      <td>64</td>\n",
       "      <td>24</td>\n",
       "      <td>0</td>\n",
       "      <td>29.2</td>\n",
       "      <td>0.192</td>\n",
       "      <td>21</td>\n",
       "      <td>0</td>\n",
       "      <td>0</td>\n",
       "      <td>0.055998</td>\n",
       "    </tr>\n",
       "    <tr>\n",
       "      <th>4</th>\n",
       "      <td>4</td>\n",
       "      <td>83</td>\n",
       "      <td>86</td>\n",
       "      <td>19</td>\n",
       "      <td>0</td>\n",
       "      <td>29.3</td>\n",
       "      <td>0.317</td>\n",
       "      <td>34</td>\n",
       "      <td>0</td>\n",
       "      <td>0</td>\n",
       "      <td>0.100491</td>\n",
       "    </tr>\n",
       "  </tbody>\n",
       "</table>\n",
       "</div>"
      ],
      "text/plain": [
       "   pregnant  glucose  diastolic  skinfold  insulin   bmi  pedigree  age  \\\n",
       "0         7      124         70        33      215  25.5     0.161   37   \n",
       "1         2      122         76        27      200  35.9     0.483   26   \n",
       "2         3      107         62        13       48  22.9     0.678   23   \n",
       "3         1       91         64        24        0  29.2     0.192   21   \n",
       "4         4       83         86        19        0  29.3     0.317   34   \n",
       "\n",
       "   class  scored.class  scored.probability  \n",
       "0      0             0            0.328452  \n",
       "1      0             0            0.273190  \n",
       "2      1             0            0.109660  \n",
       "3      0             0            0.055998  \n",
       "4      0             0            0.100491  "
      ]
     },
     "execution_count": 1,
     "metadata": {},
     "output_type": "execute_result"
    }
   ],
   "source": [
    "# import pandas libraries for dataframe loading\n",
    "import pandas as pd\n",
    "# read data into dataframe\n",
    "path='https://raw.githubusercontent.com/brianlivian/DAV-6150--Data-Science/main/M5_Data.csv'\n",
    "df=pd.read_csv(path)\n",
    "# check loading\n",
    "df.head()"
   ]
  },
  {
   "cell_type": "markdown",
   "metadata": {},
   "source": [
    "#### 3) Use Pandas’ crosstab() function to calculate the contents of a confusion matrix for the data. Make sure you closely examine the output e.g., do the rows represent the actual or the predicted classification? What about the columns?"
   ]
  },
  {
   "cell_type": "code",
   "execution_count": 2,
   "metadata": {},
   "outputs": [
    {
     "data": {
      "text/html": [
       "<div>\n",
       "<style scoped>\n",
       "    .dataframe tbody tr th:only-of-type {\n",
       "        vertical-align: middle;\n",
       "    }\n",
       "\n",
       "    .dataframe tbody tr th {\n",
       "        vertical-align: top;\n",
       "    }\n",
       "\n",
       "    .dataframe thead th {\n",
       "        text-align: right;\n",
       "    }\n",
       "</style>\n",
       "<table border=\"1\" class=\"dataframe\">\n",
       "  <thead>\n",
       "    <tr style=\"text-align: right;\">\n",
       "      <th></th>\n",
       "      <th>class</th>\n",
       "      <th>scored.class</th>\n",
       "      <th>scored.probability</th>\n",
       "    </tr>\n",
       "  </thead>\n",
       "  <tbody>\n",
       "    <tr>\n",
       "      <th>0</th>\n",
       "      <td>0</td>\n",
       "      <td>0</td>\n",
       "      <td>0.328452</td>\n",
       "    </tr>\n",
       "    <tr>\n",
       "      <th>1</th>\n",
       "      <td>0</td>\n",
       "      <td>0</td>\n",
       "      <td>0.273190</td>\n",
       "    </tr>\n",
       "    <tr>\n",
       "      <th>2</th>\n",
       "      <td>1</td>\n",
       "      <td>0</td>\n",
       "      <td>0.109660</td>\n",
       "    </tr>\n",
       "    <tr>\n",
       "      <th>3</th>\n",
       "      <td>0</td>\n",
       "      <td>0</td>\n",
       "      <td>0.055998</td>\n",
       "    </tr>\n",
       "    <tr>\n",
       "      <th>4</th>\n",
       "      <td>0</td>\n",
       "      <td>0</td>\n",
       "      <td>0.100491</td>\n",
       "    </tr>\n",
       "  </tbody>\n",
       "</table>\n",
       "</div>"
      ],
      "text/plain": [
       "   class  scored.class  scored.probability\n",
       "0      0             0            0.328452\n",
       "1      0             0            0.273190\n",
       "2      1             0            0.109660\n",
       "3      0             0            0.055998\n",
       "4      0             0            0.100491"
      ]
     },
     "execution_count": 2,
     "metadata": {},
     "output_type": "execute_result"
    }
   ],
   "source": [
    "import pandas as pd\n",
    "import numpy as np\n",
    "import matplotlib.pyplot as plt\n",
    "import seaborn as sns\n",
    "# take a closer look at the result and target columns\n",
    "df_re = df[['class', 'scored.class', 'scored.probability']]\n",
    "df_re.head()"
   ]
  },
  {
   "cell_type": "code",
   "execution_count": 3,
   "metadata": {},
   "outputs": [
    {
     "data": {
      "text/html": [
       "<div>\n",
       "<style scoped>\n",
       "    .dataframe tbody tr th:only-of-type {\n",
       "        vertical-align: middle;\n",
       "    }\n",
       "\n",
       "    .dataframe tbody tr th {\n",
       "        vertical-align: top;\n",
       "    }\n",
       "\n",
       "    .dataframe thead th {\n",
       "        text-align: right;\n",
       "    }\n",
       "</style>\n",
       "<table border=\"1\" class=\"dataframe\">\n",
       "  <thead>\n",
       "    <tr style=\"text-align: right;\">\n",
       "      <th>scored.class</th>\n",
       "      <th>0</th>\n",
       "      <th>1</th>\n",
       "    </tr>\n",
       "    <tr>\n",
       "      <th>class</th>\n",
       "      <th></th>\n",
       "      <th></th>\n",
       "    </tr>\n",
       "  </thead>\n",
       "  <tbody>\n",
       "    <tr>\n",
       "      <th>0</th>\n",
       "      <td>119</td>\n",
       "      <td>5</td>\n",
       "    </tr>\n",
       "    <tr>\n",
       "      <th>1</th>\n",
       "      <td>30</td>\n",
       "      <td>27</td>\n",
       "    </tr>\n",
       "  </tbody>\n",
       "</table>\n",
       "</div>"
      ],
      "text/plain": [
       "scored.class    0   1\n",
       "class                \n",
       "0             119   5\n",
       "1              30  27"
      ]
     },
     "execution_count": 3,
     "metadata": {},
     "output_type": "execute_result"
    }
   ],
   "source": [
    "# Display crosstab of class and scored.class\n",
    "crosstab = pd.crosstab(df['class'], df['scored.class'])\n",
    "crosstab"
   ]
  },
  {
   "cell_type": "markdown",
   "metadata": {},
   "source": [
    "According to the shape of the data frame, we assume the rows represent the actual classification, while the columns represent the predicted classification."
   ]
  },
  {
   "cell_type": "code",
   "execution_count": 4,
   "metadata": {},
   "outputs": [
    {
     "name": "stdout",
     "output_type": "stream",
     "text": [
      "0    124\n",
      "1     57\n",
      "Name: class, dtype: int64\n",
      "\n",
      "0    149\n",
      "1     32\n",
      "Name: scored.class, dtype: int64\n"
     ]
    }
   ],
   "source": [
    "# use value_counts() to calculate the case numbers of each classification\n",
    "print(df['class'].value_counts())\n",
    "print('')\n",
    "print(df['scored.class'].value_counts())"
   ]
  },
  {
   "cell_type": "markdown",
   "metadata": {},
   "source": [
    "The first row 119+5=124, which is the 0 counts of the actual classification. The second row 30+27=57, which is the 1 counts of the actual classification. The first column 119+30=149, which is the 0 counts of the predicted classification, and the second column 5+27=32, which is the 1 counts of the predicted classification. It is the same as our assumption above.<br>\n",
    "<br>\n",
    "Based on using the crosstab() function, we are able to print the frequency at which groups of the class and scored class values happen. In this case, we set 0 as negative and 1 as positive, tn represents true negative, tp represents true positive, fp represents false positive and fn represents false negative."
   ]
  },
  {
   "cell_type": "code",
   "execution_count": 5,
   "metadata": {},
   "outputs": [
    {
     "name": "stdout",
     "output_type": "stream",
     "text": [
      "119 27 30 5\n"
     ]
    }
   ],
   "source": [
    "# actual negative, predicted negative\n",
    "tn = crosstab[0][0]\n",
    "# actual positive, predicted positive\n",
    "tp = crosstab[1][1]\n",
    "# actual negative, predicted positive\n",
    "fp = crosstab[1][0]\n",
    "# actual positive, predicted negative\n",
    "fn = crosstab[0][1]\n",
    "print(tn, tp, fn, fp)"
   ]
  },
  {
   "cell_type": "markdown",
   "metadata": {},
   "source": [
    "#### 5) Write a Python function that accepts as input the actual and predicted classifications for any binary classification data and then calculates and returns the accuracy metric for the predictions without utilizing any pre-built Python accuracy metric calculation functions."
   ]
  },
  {
   "cell_type": "code",
   "execution_count": 6,
   "metadata": {},
   "outputs": [
    {
     "data": {
      "text/plain": [
       "0.8066298342541437"
      ]
     },
     "execution_count": 6,
     "metadata": {},
     "output_type": "execute_result"
    }
   ],
   "source": [
    "def accuracy(true, predict):\n",
    "    # get the confusion matrix of the true and predict columns \n",
    "    crosstab = pd.crosstab(true, predict)\n",
    "    # calculate the counts of true positive, true negative, false positive and false negative\n",
    "    tn = crosstab[0][0]\n",
    "    tp = crosstab[1][1]\n",
    "    fp = crosstab[1][0]\n",
    "    fn = crosstab[0][1]\n",
    "    # calculate the accuracy\n",
    "    return((tp+tn)/(tp+tn+fp+fn))\n",
    "\n",
    "# try the function\n",
    "accuracy(df['class'], df['scored.class'])"
   ]
  },
  {
   "cell_type": "markdown",
   "metadata": {},
   "source": [
    "Based on the formular for accuracy, we used the crosstab() function to declare the true negative (tn), true positive (tp), false positive (fp), and false negative (fn). The function will take the values for any two variables and calculate the accuracy using the formula and crosstab method."
   ]
  },
  {
   "cell_type": "markdown",
   "metadata": {},
   "source": [
    "#### 6) Write a Python function that accepts as input the actual and predicted classifications for any binary classification data and then calculates and returns the precision metric for the predictions without utilizing any pre-built Python classification metric calculation functions."
   ]
  },
  {
   "cell_type": "code",
   "execution_count": 7,
   "metadata": {},
   "outputs": [
    {
     "data": {
      "text/plain": [
       "0.84375"
      ]
     },
     "execution_count": 7,
     "metadata": {},
     "output_type": "execute_result"
    }
   ],
   "source": [
    "def precision(true, predict):\n",
    "    # get the confusion matrix of the true and predict columns\n",
    "    crosstab = pd.crosstab(true, predict)\n",
    "    # calculate the counts of true positive and false positive\n",
    "    tp = crosstab[1][1]\n",
    "    fp = crosstab[1][0]\n",
    "    # calculate the precision\n",
    "    return((tp)/ (tp+fp))\n",
    "\n",
    "# try the function\n",
    "precision(df['class'], df['scored.class'])"
   ]
  },
  {
   "cell_type": "markdown",
   "metadata": {},
   "source": [
    "For precision, we used the formula to create the function. The formula only requires the true positive (tp), and false positive (fp), and therefore we only create those variables in the function. We test the function with our function and obtained a value of 0.84375. The score of 1.0 means the model does not produces false positives so therefore with a 0.84 we know we may have some false positives."
   ]
  },
  {
   "cell_type": "markdown",
   "metadata": {},
   "source": [
    "#### 7) Write a Python function that accepts as input the actual and predicted classifications for any binary classification data and then calculates and returns the sensitivity metric for the predictions without utilizing any pre-built Python classification metric calculation functions."
   ]
  },
  {
   "cell_type": "code",
   "execution_count": 8,
   "metadata": {},
   "outputs": [
    {
     "data": {
      "text/plain": [
       "0.47368421052631576"
      ]
     },
     "execution_count": 8,
     "metadata": {},
     "output_type": "execute_result"
    }
   ],
   "source": [
    "def sensitivity(true, predict):\n",
    "    # get the confusion matrix of the true and predict columns\n",
    "    crosstab = pd.crosstab(true, predict)\n",
    "    # calculate the counts of true positive and false negative\n",
    "    tp = crosstab[1][1]\n",
    "    fn = crosstab[0][1]\n",
    "    # calculate the sensitivity\n",
    "    return((tp)/ (tp+fn))\n",
    "\n",
    "# try the function\n",
    "sensitivity(df['class'], df['scored.class'])"
   ]
  },
  {
   "cell_type": "markdown",
   "metadata": {},
   "source": [
    "Based on our research, the sensitivity formula is similar to precision, but it uses the false negatives instead of the false positives. It is trying to identify the rate at which positive observations occur so therefor we create those two variables and then ask the function to return the result of the formula. In this case, the score may indicate that sometimes the model fails to identify the true positive cases."
   ]
  },
  {
   "cell_type": "markdown",
   "metadata": {},
   "source": [
    "#### 8) Write a Python function that accepts as input the actual and predicted classifications for any binary classification data and then calculates and returns the specificity metric for the predictions without utilizing any pre-built Python classification metric calculation functions."
   ]
  },
  {
   "cell_type": "code",
   "execution_count": 9,
   "metadata": {},
   "outputs": [
    {
     "data": {
      "text/plain": [
       "0.9596774193548387"
      ]
     },
     "execution_count": 9,
     "metadata": {},
     "output_type": "execute_result"
    }
   ],
   "source": [
    "def specificity(true,predict):\n",
    "    # get the confusion matrix of the true and predict columns\n",
    "    crosstab = pd.crosstab(true, predict)\n",
    "    # calculate the counts of true negative and false positive\n",
    "    tn = crosstab[0][0]\n",
    "    fp = crosstab[1][0]\n",
    "    # calculate the specificity\n",
    "    return((tn)/(tn+fp))\n",
    "\n",
    "# try the function\n",
    "specificity(df['class'], df['scored.class'])"
   ]
  },
  {
   "cell_type": "markdown",
   "metadata": {},
   "source": [
    "Now we create the specificity function to find the number of actual negatives. For this formula we see the relationship between true negatives and false positives. By dividing the true negative over the total true negative and false positive  we obtain the measure of specificity. The score for our model indicates that we have a model that is good at predicting the actual negatives."
   ]
  },
  {
   "cell_type": "markdown",
   "metadata": {},
   "source": [
    "#### 9) Write a Python function that accepts as input the actual and predicted classifications for any binary classification data and then calculates and returns the F1 Score metric for the predictions without utilizing any pre-built Python classification metric calculation functions."
   ]
  },
  {
   "cell_type": "code",
   "execution_count": 10,
   "metadata": {},
   "outputs": [
    {
     "data": {
      "text/plain": [
       "0.6067415730337079"
      ]
     },
     "execution_count": 10,
     "metadata": {},
     "output_type": "execute_result"
    }
   ],
   "source": [
    "def f1(true, predict):\n",
    "    # get the confusion matrix of the true and predict columns\n",
    "    crosstab = pd.crosstab(true, predict)\n",
    "    # calculate the counts of true positive, true negative, false positive and false negative\n",
    "    tn = crosstab[0][0]\n",
    "    tp = crosstab[1][1]\n",
    "    fp = crosstab[1][0]\n",
    "    fn = crosstab[0][1]\n",
    "    # calculate the precision and recall\n",
    "    precision = (tp)/ (tp+fp)\n",
    "    recall = (tp)/ (tp+fn)\n",
    "    return((2*precision*recall)/ (precision+recall))\n",
    "\n",
    "# try the function\n",
    "f1(df['class'], df['scored.class'])"
   ]
  },
  {
   "cell_type": "markdown",
   "metadata": {},
   "source": [
    "F1, is a measure for precision and recall so therefore we first calculate these two metrics within the function to then return the actual F1 score. The formula defines it as the twice the product of precision and recall over the sum of the scores. It helps us understand the balance between both measures.\n",
    "\n",
    "The result in this case shows that we do have some false positives and false negatives by outputting a score of 0.60."
   ]
  },
  {
   "cell_type": "markdown",
   "metadata": {},
   "source": [
    "#### 10) Write a Python function to plot a ROC curve and also calculate AUC for any binary classification data that contains both actual and predicted classifications as well as the associated scored probabilities without utilizing any pre-built Python classification metric calculation or ROC or AUC functions."
   ]
  },
  {
   "cell_type": "markdown",
   "metadata": {},
   "source": [
    "The function logic flow is: \n",
    "1. Set a list of thresholds. The threshold will be increase from 0 to 1 with step 0.005, for smoothen the curve. \n",
    "2. Create two lists for containing the true positive rate and false positive rate under different threshold.\n",
    "3. Under each threshold, create a list for containing the prediction result of the scored probability, and variables for calculating true positive, true negative, false positive and false negative counts.\n",
    "4. Under a certain threshold, loop the probability element by element, determine the result and compare with the actual result, then update the correctness of the classification.\n",
    "5. After finishing this threshold, add the true positive rate and false positive rate to the lists till all thresholds being checked. \n",
    "6. Plot the curve and calculate the area under curve."
   ]
  },
  {
   "cell_type": "code",
   "execution_count": 11,
   "metadata": {},
   "outputs": [],
   "source": [
    "def ROC_CURVE(real,prob):\n",
    "    # set different threshold, smaller steps will smooth the curve\n",
    "    threshold=np.arange(0, 1.001, 0.005).tolist()\n",
    "    # create true positive rate list and false positive rate list\n",
    "    tpr_func=[]\n",
    "    fpr_func=[]\n",
    "    # under each threshold, do the following:\n",
    "    for i in threshold:\n",
    "        # empty list for containing the prediction result\n",
    "        df_new=[]\n",
    "        # set correctness of the classification\n",
    "        tn_func=0\n",
    "        tp_func=0\n",
    "        fp_func=0\n",
    "        fn_func=0\n",
    "        # loop the probability\n",
    "        for j in range(len(prob)):\n",
    "            # if determined as positive\n",
    "            if prob[j]>=i:\n",
    "                df_new.append(int(1))\n",
    "                # update correctness of the classification\n",
    "                if ((real[j]==df_new[j]==1)):\n",
    "                    tp_func=tp_func+1\n",
    "                elif ((real[j]==0) & (df_new[j]==1)):\n",
    "                    fp_func=fp_func+1\n",
    "            # if determined as negative\n",
    "            else:\n",
    "                df_new.append(int(0))\n",
    "                # update correctness of the classification\n",
    "                if ((real[j]==1) & (df_new[j]==0)):\n",
    "                    fn_func=fn_func+1\n",
    "                elif ((real[j]==df_new[j]==0)):\n",
    "                    tn_func=tn_func+1\n",
    "        # close the file under this threshold and update the tpr and fpr\n",
    "        tpr_func.append(tp_func/(tp_func+fn_func))\n",
    "        fpr_func.append(fp_func/(fp_func+tn_func))\n",
    "        \n",
    "    # plotting curve based on the tpr and fpr\n",
    "    plt.plot(fpr_func, tpr_func, linestyle='--', label='ROC curve', clip_on=False)\n",
    "    plt.plot([0,1],[0,1],linestyle='--')\n",
    "    plt.xlabel('False Positive Rate')\n",
    "    plt.ylabel('True Positive Rate')\n",
    "    plt.title('ROC CURVE')\n",
    "    plt.legend()\n",
    "    plt.show()\n",
    "    \n",
    "    # Also calculating the area under the curve\n",
    "    print('The AUC score is '+str(-np.trapz(tpr_func,x=fpr_func))+'.')"
   ]
  },
  {
   "cell_type": "code",
   "execution_count": 12,
   "metadata": {},
   "outputs": [
    {
     "data": {
      "image/png": "[encoded data removed]",
      "text/plain": [
       "<Figure size 432x288 with 1 Axes>"
      ]
     },
     "metadata": {
      "needs_background": "light"
     },
     "output_type": "display_data"
    },
    {
     "name": "stdout",
     "output_type": "stream",
     "text": [
      "The AUC score is 0.8498160724391625.\n"
     ]
    }
   ],
   "source": [
    "# test the funciton\n",
    "real1=df['class']\n",
    "prob1=df['scored.probability']\n",
    "ROC_CURVE(real1,prob1)"
   ]
  },
  {
   "cell_type": "markdown",
   "metadata": {},
   "source": [
    "Given that our ROC Curve is approximating the top left we can infere that the relationship between sensitivity and specificity is performing well. In our function, we define the calculation for each of those metrics and then plot it as the ROC Curve. The AUC calculation shows a 0.84 so our model can be considered good."
   ]
  },
  {
   "cell_type": "markdown",
   "metadata": {},
   "source": [
    "#### 11) Apply the Python functions you’ve created to the relevant columns of the provided data set to produce the classification metrics specified in steps 5 through 9 of this assignment."
   ]
  },
  {
   "cell_type": "markdown",
   "metadata": {},
   "source": [
    "Please see the output of each function below the question description."
   ]
  },
  {
   "cell_type": "markdown",
   "metadata": {},
   "source": [
    "#### 12) Now compare the output of your functions against the output of the pre-built functions available within the scikit-learn library. Specifically, apply the confusion_matrix(), accuracy_score(), precision_score(), recall_score() (remember: recall = sensitivity), f1_score(), and the metrics.classification_report() functions to the relevant columns of the provided data set. Discuss how well the results of these pre-built functions compare to those of the functions you’ve created for this assignment."
   ]
  },
  {
   "cell_type": "code",
   "execution_count": 13,
   "metadata": {},
   "outputs": [
    {
     "data": {
      "text/html": [
       "<div>\n",
       "<style scoped>\n",
       "    .dataframe tbody tr th:only-of-type {\n",
       "        vertical-align: middle;\n",
       "    }\n",
       "\n",
       "    .dataframe tbody tr th {\n",
       "        vertical-align: top;\n",
       "    }\n",
       "\n",
       "    .dataframe thead th {\n",
       "        text-align: right;\n",
       "    }\n",
       "</style>\n",
       "<table border=\"1\" class=\"dataframe\">\n",
       "  <thead>\n",
       "    <tr style=\"text-align: right;\">\n",
       "      <th></th>\n",
       "      <th>Predict 0</th>\n",
       "      <th>Predict 1</th>\n",
       "    </tr>\n",
       "  </thead>\n",
       "  <tbody>\n",
       "    <tr>\n",
       "      <th>True 0</th>\n",
       "      <td>119</td>\n",
       "      <td>5</td>\n",
       "    </tr>\n",
       "    <tr>\n",
       "      <th>True 1</th>\n",
       "      <td>30</td>\n",
       "      <td>27</td>\n",
       "    </tr>\n",
       "  </tbody>\n",
       "</table>\n",
       "</div>"
      ],
      "text/plain": [
       "        Predict 0  Predict 1\n",
       "True 0        119          5\n",
       "True 1         30         27"
      ]
     },
     "execution_count": 13,
     "metadata": {},
     "output_type": "execute_result"
    }
   ],
   "source": [
    "# Another method to show confusion matrix with sklearn\n",
    "from sklearn.metrics import confusion_matrix\n",
    "df1 = pd.DataFrame(\n",
    "    confusion_matrix(df['class'], df['scored.class']),\n",
    "    columns = ['Predict 0', 'Predict 1'],\n",
    "    index = ['True 0', 'True 1']\n",
    ")\n",
    "df1"
   ]
  },
  {
   "cell_type": "code",
   "execution_count": 14,
   "metadata": {},
   "outputs": [
    {
     "name": "stdout",
     "output_type": "stream",
     "text": [
      "Accuracy score is 0.8066298342541437\n",
      "Precision score is 0.84375\n",
      "recall score is 0.47368421052631576\n",
      "F1 score is 0.6067415730337079\n",
      "              precision    recall  f1-score   support\n",
      "\n",
      "           0       0.80      0.96      0.87       124\n",
      "           1       0.84      0.47      0.61        57\n",
      "\n",
      "    accuracy                           0.81       181\n",
      "   macro avg       0.82      0.72      0.74       181\n",
      "weighted avg       0.81      0.81      0.79       181\n",
      "\n"
     ]
    }
   ],
   "source": [
    "# import all the pre-built functions\n",
    "from sklearn.metrics import accuracy_score\n",
    "from sklearn.metrics import precision_score\n",
    "from sklearn.metrics import recall_score\n",
    "from sklearn.metrics import f1_score\n",
    "from sklearn.metrics import classification_report\n",
    "\n",
    "print(\"Accuracy score is \"+str(accuracy_score(df['class'], df['scored.class'])))\n",
    "print(\"Precision score is \"+str(precision_score(df['class'], df['scored.class'])))\n",
    "print(\"recall score is \"+str(recall_score(df['class'], df['scored.class'])))\n",
    "print(\"F1 score is \"+str(f1_score(df['class'], df['scored.class'])))\n",
    "print(classification_report(df['class'], df['scored.class']))"
   ]
  },
  {
   "cell_type": "markdown",
   "metadata": {},
   "source": [
    "The results of the pre-built functions are the same as the results we got from the functions we created. Our functions accurately calculated accuracy, precision, recall and the F1 score. The pre-built functions are easy to use, however, through this exercise we understand better the formulas, definition and uses of each metric and can move to quickly calculate the metrics using built in libraries."
   ]
  },
  {
   "cell_type": "markdown",
   "metadata": {},
   "source": [
    "#### 13) Using the metrics.plot_roc_curve () and metrics.auc() functions from the scikit-learn package to generate a ROC plot and calculate AUC for the provided data set. How do the results compare with the ROC/AUC function you’ve created for this assignment?"
   ]
  },
  {
   "cell_type": "code",
   "execution_count": 15,
   "metadata": {},
   "outputs": [
    {
     "data": {
      "image/png": "[encoded data removed]",
      "text/plain": [
       "<Figure size 432x288 with 1 Axes>"
      ]
     },
     "metadata": {
      "needs_background": "light"
     },
     "output_type": "display_data"
    }
   ],
   "source": [
    "'''******* pip install scikit-plot is needed for the following attempt ********'''\n",
    "# import libraries after install scikit-plot\n",
    "import scikitplot as skplt\n",
    "import matplotlib.pyplot as plt\n",
    "from sklearn import metrics\n",
    "y_true=df['class']\n",
    "# need to be 2D-array\n",
    "y_probas=df['scored.probability'].reset_index().values\n",
    "# Function plot_roc_curve is deprecated, need to use scikitplot.metrics.plot_roc\n",
    "skplt.metrics.plot_roc(y_true, y_probas)\n",
    "plt.show()"
   ]
  },
  {
   "cell_type": "code",
   "execution_count": 16,
   "metadata": {},
   "outputs": [
    {
     "data": {
      "text/plain": [
       "0.8503112620260327"
      ]
     },
     "execution_count": 16,
     "metadata": {},
     "output_type": "execute_result"
    }
   ],
   "source": [
    "from sklearn.metrics import roc_auc_score\n",
    "roc_auc_score(df['class'], df['scored.probability'])"
   ]
  },
  {
   "cell_type": "markdown",
   "metadata": {},
   "source": [
    "The curve for class 1 closely resembled our defined function that shows a good model, however the AUC calculation from the function and built in library were slightly different but almost the same, so there may be more precision on the built in library. The result may vary because of the threshold numbers.\n",
    "Furthermore, we have expanded our knowledge on the use of performance metrics and binary classification. As we move forward to creating more complex models the use of the performance metrics will be an aid to measure its performance."
   ]
  },
  {
   "cell_type": "markdown",
   "metadata": {},
   "source": [
    "# Resoruces\n",
    "1. https://towardsdatascience.com/accuracy-precision-recall-or-f1-331fb37c5cb9\n",
    "2. https://stackoverflow.com/questions/25009284/how-to-plot-roc-curve-in-python\n",
    "3. https://numpy.org/doc/stable/reference/generated/numpy.trapz.html\n",
    "4. https://scikit-plot.readthedocs.io/en/stable/metrics.html\n",
    "5. https://mmuratarat.github.io/2019-10-01/how-to-compute-AUC-plot-ROC-by-hand"
   ]
  },
  {
   "cell_type": "code",
   "execution_count": null,
   "metadata": {},
   "outputs": [],
   "source": []
  }
 ],
 "metadata": {
  "kernelspec": {
   "display_name": "Python 3",
   "language": "python",
   "name": "python3"
  },
  "language_info": {
   "codemirror_mode": {
    "name": "ipython",
    "version": 3
   },
   "file_extension": ".py",
   "mimetype": "text/x-python",
   "name": "python",
   "nbconvert_exporter": "python",
   "pygments_lexer": "ipython3",
   "version": "3.8.5"
  }
 },
 "nbformat": 4,
 "nbformat_minor": 4
}
