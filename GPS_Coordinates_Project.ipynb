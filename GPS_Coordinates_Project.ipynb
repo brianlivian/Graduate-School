{
 "cells": [
  {
   "cell_type": "markdown",
   "metadata": {},
   "source": [
    "# Scientific Computing Project 2\n",
    "# Brian Livian, Yonah Moise"
   ]
  },
  {
   "cell_type": "code",
   "execution_count": 525,
   "metadata": {},
   "outputs": [],
   "source": [
    "import numpy as np\n",
    "import math\n",
    "# Given satellite positions\n",
    "satmatrix1 = np.array([\n",
    "    [15600, 7540, 20140],\n",
    "    [18760, 2750, 18610],\n",
    "    [17610, 14630, 13480],\n",
    "    [19170, 610, 18390]])\n",
    "\n",
    "# Given time\n",
    "time = [.07074, .07220, .07690, .07242]\n",
    "\n",
    "# Given initial vector\n",
    "initial = np.array([0,0,6370, 0])\n",
    "\n",
    "c    = 299792.458\n",
    "\n"
   ]
  },
  {
   "cell_type": "code",
   "execution_count": 526,
   "metadata": {},
   "outputs": [],
   "source": [
    "# Newton algorithm\n",
    "def Newton_system(r, Dr, x0, N = 100, eps = .00001):\n",
    "    x=x0\n",
    "    r_value=r(x0)\n",
    "    Gradr_norm = np.linalg.norm(np.dot(r(x0),Dr(x0)),ord=2)\n",
    "    steps = 0\n",
    "    while abs(Gradr_norm) > eps and steps < N: \n",
    "        v=np.linalg.lstsq(Dr(x), r_value,rcond=None)[0]\n",
    "        #print('v=',v)\n",
    "        x = x-v\n",
    "        #print('x=',x)\n",
    "        r_value = r(x)\n",
    "        Dr_value = Dr(x) \n",
    "        Gradr_norm = np.linalg.norm(np.dot(r_value,Dr_value),ord=2)\n",
    "        #print('Gradr_norm =',Gradr_norm)\n",
    "        steps = steps + 1\n",
    "    # Either a solution is found, or too many iterations\n",
    "    if abs(Gradr_norm) > eps:\n",
    "        steps = -1\n",
    "    return x, steps\n"
   ]
  },
  {
   "cell_type": "code",
   "execution_count": 527,
   "metadata": {},
   "outputs": [],
   "source": [
    "def Newton_system1(satmatrix, g, t):\n",
    "    # Define F and DF for Newtown algorithm\n",
    "    def F(x):\n",
    "        return np.array(\n",
    "            [(g[0] - satmatrix[0][0])**2  + (g[1] - satmatrix[0][1]) **2 + (g[2] - satmatrix[0][2]) **2 - ((c* (t[0] - g[3]))**2),\n",
    "            (g[0] - satmatrix[1][0])**2  + (g[1] - satmatrix[1][1]) **2 + (g[2] - satmatrix[1][2]) **2 - ((c* (t[1] - g[3]))**2),\n",
    "            (g[0] - satmatrix[2][0])**2  + (g[1] - satmatrix[2][1]) **2 + (g[2] - satmatrix[2][2]) **2 - ((c* (t[2] - g[3]))**2),\n",
    "            (g[0] - satmatrix[3][0])**2  + (g[1] - satmatrix[3][1]) **2 + (g[2] - satmatrix[3][2]) **2 - ((c* (t[3] - g[3]))**2)]\n",
    "        )\n",
    "        \n",
    "    def DF(x):\n",
    "        return np.array(\n",
    "            [[2*(g[0] - satmatrix[0][0]), 2*(g[1]-satmatrix[0][1]), 2*(g[2] - satmatrix[0][2]), (2* (c**2) * (t[0] - g[3]) )],\n",
    "             [2*(g[0] - satmatrix[1][0]), 2*(g[1]-satmatrix[1][1]), 2*(g[2] - satmatrix[1][2]), (2* (c**2) * (t[1] - g[3]) )],\n",
    "             [2*(g[0] - satmatrix[2][0]), 2*(g[1]-satmatrix[2][1]), 2*(g[2] - satmatrix[2][2]), (2 * (c**2) * (t[2] - g[3]) )],\n",
    "             [2*(g[0] - satmatrix[3][0]), 2*(g[1]-satmatrix[3][1]), 2*(g[2] - satmatrix[3][2]), (2* (c**2) * (t[3] - g[3]) )]\n",
    "        \n",
    "            \n",
    "            ])\n",
    "    \n",
    "    tol = (1 * (10)**-8)\n",
    "    \n",
    "    h, n = Newton_system(F, DF, x0 = g , N = 1, eps=0.000001)\n",
    "    return (h)\n",
    "   \n",
    "    \n",
    "    \n"
   ]
  },
  {
   "cell_type": "code",
   "execution_count": 512,
   "metadata": {
    "scrolled": true
   },
   "outputs": [
    {
     "data": {
      "text/plain": [
       "array([-4.17733669e+01, -1.67510571e+01,  6.37518313e+03, -3.26271451e-03])"
      ]
     },
     "execution_count": 512,
     "metadata": {},
     "output_type": "execute_result"
    }
   ],
   "source": [
    "# Location of reciever\n",
    "Newton_system1(satmatrix1, initial, time)\n"
   ]
  },
  {
   "cell_type": "markdown",
   "metadata": {},
   "source": [
    "# Part 2"
   ]
  },
  {
   "cell_type": "code",
   "execution_count": 513,
   "metadata": {},
   "outputs": [
    {
     "name": "stdout",
     "output_type": "stream",
     "text": [
      "[[ 1.50309959e-12  2.45474792e+04  1.01678988e+04]\n",
      " [-1.87878272e+04  2.30084524e-12  1.87878272e+04]\n",
      " [-1.86781271e-12 -1.01678988e+04  2.45474792e+04]\n",
      " [ 1.62694327e-12 -3.98486174e-28  2.65700000e+04]]\n",
      "[24839.54044088253, 22520.76556816281, 20828.03195843935, 20200.0]\n",
      "[0.08295579 0.07522119 0.06957484 0.06747995]\n"
     ]
    }
   ],
   "source": [
    "from math import sin, cos, sqrt, pi\n",
    "p = 26570\n",
    "\n",
    "# Phi and theta chose arbitrarily in northern hemisphere\n",
    "phi2 = [pi/8, pi/4, 3*pi/8, pi/2]\n",
    "theta2 = [pi/2, pi, 3*pi/2, 2*pi]\n",
    "# Given location\n",
    "loc = [0,0,6370, .0001]\n",
    "\n",
    "R = []\n",
    "t2 = []\n",
    "a = []\n",
    "b = []\n",
    "c = []\n",
    "\n",
    "# Find cartesian coordinates of satellites   \n",
    "for i, j in zip(phi2, theta2):\n",
    "    a.append(p*cos(i)*cos(j))\n",
    "    b.append(p*cos(i)*sin(j))\n",
    "    c.append(p*sin(i))\n",
    "\n",
    "arr = np.array([a, b, c])\n",
    "satmatrix2 = arr.T\n",
    "print(satmatrix2)\n",
    "\n",
    "\n",
    "# Calculate distances\n",
    "def functionforR(satmatrix2):\n",
    "    \n",
    "    for sat in satmatrix2:\n",
    "        R.append(sqrt(sat[0]**2 + sat[1]**2 + (sat[2] - 6370)**2))\n",
    "    return R\n",
    "\n",
    "functionforR(satmatrix2)\n",
    "\n",
    "# Calculate times\n",
    "def functionfort(R):\n",
    "    \n",
    "    for r in R:\n",
    "        t2.append(.0001 + (r/299792.458) )\n",
    "    return t2\n",
    "\n",
    "functionfort(R)\n",
    "\n",
    "t2 = np.array(t2)\n",
    "print(R)\n",
    "print(t2)\n"
   ]
  },
  {
   "cell_type": "code",
   "execution_count": 518,
   "metadata": {},
   "outputs": [
    {
     "name": "stdout",
     "output_type": "stream",
     "text": [
      "[1.34434840e-12 2.81375117e-12 6.37000000e+03 1.00000000e-04]\n"
     ]
    }
   ],
   "source": [
    "# If you cannot run this cell, run the first 3 cells in part 1 and run this one again\n",
    "xyz2 = Newton_system1(satmatrix2, loc, t2)\n",
    "print(xyz2)"
   ]
  },
  {
   "cell_type": "code",
   "execution_count": 519,
   "metadata": {},
   "outputs": [],
   "source": [
    "q = 1.0e-08\n",
    "# All permuations of possible errors in time\n",
    "# There are 4 satellites with 2 possible errors each\n",
    "# Thus there are 2^4 = 16 permutations\n",
    "dtarray = np.array([\n",
    "    [q, q, q, q], \n",
    "    [-q, q, q, q], \n",
    "    [q, -q, q, q,], \n",
    "    [q, q, -q, q], \n",
    "    [q, q, q, -q], \n",
    "    [-q, -q, q, q,], \n",
    "    [q, q, -q, -q], \n",
    "    [-q, q, q, -q], \n",
    "    [q, -q, -q, q], \n",
    "    [-q ,q, -q, q], \n",
    "    [q, -q, q, -q], \n",
    "    [q, -q, -q, -q],\n",
    "    [-q, q, -q, -q], \n",
    "    [-q, -q, q, -q], \n",
    "    [-q, -q, -q, q], \n",
    "    [-q, -q, -q, -q]\n",
    "    \n",
    "])"
   ]
  },
  {
   "cell_type": "code",
   "execution_count": 534,
   "metadata": {
    "scrolled": false
   },
   "outputs": [
    {
     "name": "stdout",
     "output_type": "stream",
     "text": [
      "tnew: [[0.0829558  0.0752212  0.06957485 0.06747996]\n",
      " [0.08295578 0.0752212  0.06957485 0.06747996]\n",
      " [0.0829558  0.07522118 0.06957485 0.06747996]\n",
      " [0.0829558  0.0752212  0.06957483 0.06747996]\n",
      " [0.0829558  0.0752212  0.06957485 0.06747994]\n",
      " [0.08295578 0.07522118 0.06957485 0.06747996]\n",
      " [0.0829558  0.0752212  0.06957483 0.06747994]\n",
      " [0.08295578 0.0752212  0.06957485 0.06747994]\n",
      " [0.0829558  0.07522118 0.06957483 0.06747996]\n",
      " [0.08295578 0.0752212  0.06957483 0.06747996]\n",
      " [0.0829558  0.07522118 0.06957485 0.06747994]\n",
      " [0.0829558  0.07522118 0.06957483 0.06747994]\n",
      " [0.08295578 0.0752212  0.06957483 0.06747994]\n",
      " [0.08295578 0.07522118 0.06957485 0.06747994]\n",
      " [0.08295578 0.07522118 0.06957483 0.06747996]\n",
      " [0.08295578 0.07522118 0.06957483 0.06747994]]\n",
      "\n",
      "xyz array: [array([3.77559015e-12, 1.49129393e-12, 6.37000000e+03, 1.00010000e-04]), array([2.91857714e-03, 1.41483329e-03, 6.36999457e+03, 9.99918958e-05]), array([-7.18715868e-03,  1.49129512e-12,  6.37000000e+03,  1.00010000e-04]), array([ 5.90815205e-03, -9.41788180e-03,  6.36998901e+03,  9.99733512e-05]), array([-1.63956590e-03,  8.00303973e-03,  6.37001641e+03,  1.00044753e-04]), array([-4.26858328e-03,  1.41483329e-03,  6.36999457e+03,  9.99918958e-05]), array([ 4.26858230e-03, -1.41483301e-03,  6.37000543e+03,  1.00008104e-04]), array([1.27900957e-03, 9.41787457e-03, 6.37001099e+03, 1.00026649e-04]), array([-1.27901014e-03, -9.41788180e-03,  6.36998901e+03,  9.99733512e-05]), array([ 8.82673202e-03, -8.00305034e-03,  6.36998359e+03,  9.99552470e-05]), array([-8.82672127e-03,  8.00303973e-03,  6.37001641e+03,  1.00044753e-04]), array([-2.91857657e-03, -1.41483301e-03,  6.37000543e+03,  1.00008104e-04]), array([7.1871606e-03, 4.4821121e-12, 6.3700000e+03, 9.9990000e-05]), array([-5.90814753e-03,  9.41787457e-03,  6.37001099e+03,  1.00026649e-04]), array([ 1.63956809e-03, -8.00305034e-03,  6.36998359e+03,  9.99552470e-05]), array([-8.13676197e-13,  4.48211478e-12,  6.37000000e+03,  9.99900000e-05])]\n",
      "\n",
      "dxyz: [array([-2.43124175e-12,  1.32245724e-12, -4.63842298e-11, -9.99999941e-09]), array([-2.91857714e-03, -1.41483328e-03,  5.42750258e-03,  8.10419794e-09]), array([ 7.18715869e-03,  1.32245604e-12, -4.63842298e-11, -9.99999941e-09]), array([-5.90815205e-03,  9.41788181e-03,  1.09870355e-02,  2.66488009e-08]), array([ 1.63956590e-03, -8.00303973e-03, -1.64145224e-02, -4.47529605e-08]), array([ 4.26858328e-03, -1.41483328e-03,  5.42750258e-03,  8.10419794e-09]), array([-4.26858230e-03,  1.41483301e-03, -5.42750125e-03, -8.10419739e-09]), array([-1.27900957e-03, -9.41787457e-03, -1.09870265e-02, -2.66487801e-08]), array([1.27901014e-03, 9.41788180e-03, 1.09870355e-02, 2.66488009e-08]), array([-8.82673202e-03,  8.00305035e-03,  1.64145434e-02,  4.47530158e-08]), array([ 8.82672127e-03, -8.00303973e-03, -1.64145224e-02, -4.47529605e-08]), array([ 2.91857657e-03,  1.41483301e-03, -5.42750125e-03, -8.10419739e-09]), array([-7.18716060e-03, -1.66836094e-12, -4.72937245e-11,  1.00000006e-08]), array([ 5.90814753e-03, -9.41787457e-03, -1.09870265e-02, -2.66487801e-08]), array([-1.63956809e-03,  8.00305035e-03,  1.64145434e-02,  4.47530158e-08]), array([ 2.15802460e-12, -1.66836361e-12, -4.72937245e-11,  1.00000006e-08])]\n",
      "\n",
      "Norm dxyz: [4.6466725759902684e-11, 0.00632278656912957, 0.007187158685787206, 0.01563066562312308, 0.01833503113071747, 0.007048428246308743, 0.0070484265718066255, 0.0145274559759348, 0.014527467573108282, 0.02028292997293291, 0.02028290409409942, 0.006322785105332587, 0.00718716059954444, 0.015630653180540216, 0.018335054777045535, 4.737232191545078e-11]\n",
      "\n",
      "Error magnification: [7.749815667461303e-09, 1.0545272905313667, 1.1986890420350744, 2.606914417960955, 3.057954034773862, 1.1755512952745368, 1.175551015997645, 2.4229188540718396, 2.422920788272179, 3.382828592194423, 3.382824276069584, 1.0545270463963086, 1.1986893612154246, 2.6069123427615075, 3.057957978556875, 7.900852848581464e-09]\n",
      "\n",
      "Max forward error: 0.02028292997293291\n",
      "ConditionN: 3.382828592194423\n"
     ]
    }
   ],
   "source": [
    "# Calculate new times with every permutation of dt\n",
    "tnewarray2 = []\n",
    "for dt in dtarray:\n",
    "    tnewarray2.append(t2 + dt)\n",
    "tnewarray2 = np.array(tnewarray2)\n",
    "print('tnew: ' + str(tnewarray2))\n",
    "print('')\n",
    "\n",
    "# Calculate new position with each permuation of dt\n",
    "xyzarray2 = []\n",
    "for i in tnewarray2:\n",
    "    xyzarray2.append(Newton_system1(satmatrix2, loc, i))\n",
    "print('xyz array: ' + str(xyzarray2))\n",
    "print('')\n",
    "\n",
    "# Calculate change in posistion for each new xyz\n",
    "dxyzarray2 = []\n",
    "for i in xyzarray2:\n",
    "    dxyzarray2.append(xyz2 - i)\n",
    "print('dxyz: ' + str(dxyzarray2))  \n",
    "print('')\n",
    "\n",
    "# Calculate each length of dxyz \n",
    "normdxyz2 = []\n",
    "for i in dxyzarray2:\n",
    "    normdxyz2.append(sqrt(i[0]**2 + i[1]**2 +i[2]**2))\n",
    "print('Norm dxyz: ' + str(normdxyz2))\n",
    "print('')\n",
    "\n",
    "# norm of dt multiplied by speed of light\n",
    "normdt = sqrt((q**2)*4)\n",
    "normdt = normdt * 299792.458\n",
    "\n",
    "# Calculate error magnification for each dxyz\n",
    "errormag2 = []\n",
    "for i in normdxyz2:\n",
    "    errormag2.append(i/normdt)\n",
    "print('Error magnification: ' + str(errormag2))\n",
    "print('')\n",
    "\n",
    "print('Max forward error: ' + str(np.max(normdxyz2)))\n",
    "\n",
    "# Max error magnification\n",
    "print('ConditionN: ' + str(np.max(errormag2)))"
   ]
  },
  {
   "cell_type": "markdown",
   "metadata": {},
   "source": [
    "# Part 3"
   ]
  },
  {
   "cell_type": "code",
   "execution_count": 524,
   "metadata": {},
   "outputs": [
    {
     "name": "stdout",
     "output_type": "stream",
     "text": [
      "[[-1.87878272e+04  2.30084524e-12  1.87878272e+04]\n",
      " [-1.85757687e+04 -9.29563202e+02  1.89747629e+04]\n",
      " [-1.83163732e+04 -1.83776730e+03  1.91598012e+04]\n",
      " [-1.80112790e+04 -2.72213857e+03  1.93429236e+04]]\n",
      "[22520.76556816281, 22467.82856069337, 22415.30576047979, 22363.205356617425]\n",
      "[0.07522119 0.07504461 0.07486941 0.07469562]\n"
     ]
    }
   ],
   "source": [
    "# Phi and theta chose arbitrarily in northern hemisphere\n",
    "# Phi and theta chosen between 5% of each other\n",
    "phi3 = [pi/4, .01 + pi/4, .02 + pi/4, .03 + pi/4]\n",
    "theta3 = [pi, .05 + pi, .10 + pi, .15 + pi]\n",
    "loc = [0,0,6370, .0001]\n",
    "\n",
    "R = []\n",
    "t3 = []\n",
    "a = []\n",
    "b = []\n",
    "c = []\n",
    "    \n",
    "for x, y in zip(phi3, theta3):\n",
    "    a.append(p*cos(x)*cos(y))\n",
    "    b.append(p*cos(x)*sin(y))\n",
    "    c.append(p*sin(x))\n",
    "\n",
    "arr3 = np.array([a, b, c])\n",
    "satmatrix3 = arr3.T\n",
    "print(satmatrix3)\n",
    "\n",
    "def functionforR(satmatrix3):\n",
    "    \n",
    "    for sat in satmatrix3:\n",
    "        R.append(sqrt(sat[0]**2 + sat[1]**2 + (sat[2] - 6370)**2))\n",
    "        \n",
    "    return R\n",
    "\n",
    "functionforR(satmatrix3)\n",
    "    \n",
    "def functionfort(R):\n",
    "    \n",
    "    for r in R:\n",
    "        t3.append(.0001 + (r/299792.458) )\n",
    "    return t3\n",
    "\n",
    "functionfort(R)\n",
    "t3 = np.array(t3)\n",
    "\n",
    "print(R)\n",
    "print(t3)\n"
   ]
  },
  {
   "cell_type": "code",
   "execution_count": 528,
   "metadata": {},
   "outputs": [
    {
     "name": "stdout",
     "output_type": "stream",
     "text": [
      "xyz: [ 3.17704725e-09 -1.03910811e-08  6.37000000e+03  9.99999999e-05]\n"
     ]
    }
   ],
   "source": [
    "# If you cannot run this cell, run the first 3 cells in part 1 and run this one again\n",
    "xyz3 = Newton_system1(satmatrix3, loc, t3)\n",
    "print('xyz: ' + str(xyz3))"
   ]
  },
  {
   "cell_type": "code",
   "execution_count": 535,
   "metadata": {},
   "outputs": [
    {
     "name": "stdout",
     "output_type": "stream",
     "text": [
      "tnew: [[0.0752212  0.07504462 0.07486942 0.07469563]\n",
      " [0.07522118 0.07504462 0.07486942 0.07469563]\n",
      " [0.0752212  0.0750446  0.07486942 0.07469563]\n",
      " [0.0752212  0.07504462 0.0748694  0.07469563]\n",
      " [0.0752212  0.07504462 0.07486942 0.07469561]\n",
      " [0.07522118 0.0750446  0.07486942 0.07469563]\n",
      " [0.0752212  0.07504462 0.0748694  0.07469561]\n",
      " [0.07522118 0.07504462 0.07486942 0.07469561]\n",
      " [0.0752212  0.0750446  0.0748694  0.07469563]\n",
      " [0.07522118 0.07504462 0.0748694  0.07469563]\n",
      " [0.0752212  0.0750446  0.07486942 0.07469561]\n",
      " [0.0752212  0.0750446  0.0748694  0.07469561]\n",
      " [0.07522118 0.07504462 0.0748694  0.07469561]\n",
      " [0.07522118 0.0750446  0.07486942 0.07469561]\n",
      " [0.07522118 0.0750446  0.0748694  0.07469563]\n",
      " [0.07522118 0.0750446  0.0748694  0.07469561]]\n",
      "\n",
      "xyz: [array([ 6.76758048e-09, -2.33749517e-08,  6.37000000e+03,  1.00010000e-04]), array([ 1.44567010e+01, -4.73756018e+01,  6.15437779e+03, -3.36823371e-04]), array([-4.00295987e+01,  1.40089403e+02,  7.00424049e+03,  1.37793130e-03]), array([ 3.89957999e+01, -1.46290847e+02,  5.71050260e+03, -1.22148838e-03]), array([-1.18986339e+01,  4.80535133e+01,  6.58592378e+03,  5.30259468e-04]), array([-2.60495665e+01,  9.43269209e+01,  6.79594091e+03,  9.55892915e-04]), array([ 2.66592625e+01, -9.65343917e+01,  5.93409100e+03, -7.75923161e-04]), array([2.40550826e+00, 1.23061250e+00, 6.37280088e+03, 9.84476274e-05]), array([-2.40541231e+00, -1.23054764e+00,  6.36719930e+03,  1.01552434e-04]), array([ 5.39401896e+01, -1.95374629e+02,  5.48714348e+03, -1.67390936e-03]), array([-5.14996517e+01,  1.86533800e+02,  7.21290699e+03,  1.79364016e-03]), array([-1.42905048e+01,  4.68309649e+01,  6.58314338e+03,  5.31801570e-04]), array([ 4.14429416e+01, -1.45035601e+02,  5.71336613e+03, -1.22305174e-03]), array([-3.76644244e+01,  1.41296256e+02,  7.00698113e+03,  1.37637071e-03]), array([ 1.20374959e+01, -4.86143176e+01,  6.15155631e+03, -3.35280757e-04]), array([ 1.65764698e-08, -6.11635553e-08,  6.37000000e+03,  9.99899994e-05])]\n",
      "\n",
      "dxyz: [array([-3.59053323e-09,  1.29838705e-08,  5.86042006e-08, -9.99988155e-09]), array([-1.44567010e+01,  4.73756018e+01,  2.15622214e+02,  4.36823371e-04]), array([ 4.00295987e+01, -1.40089403e+02, -6.34240490e+02, -1.27793130e-03]), array([-3.89957999e+01,  1.46290847e+02,  6.59497396e+02,  1.32148838e-03]), array([ 1.18986339e+01, -4.80535133e+01, -2.15923777e+02, -4.30259469e-04]), array([ 2.60495665e+01, -9.43269209e+01, -4.25940913e+02, -8.55892915e-04]), array([-2.66592625e+01,  9.65343917e+01,  4.35909003e+02,  8.75923161e-04]), array([-2.40550826e+00, -1.23061251e+00, -2.80088141e+00,  1.55237246e-06]), array([ 2.40541231e+00,  1.23054763e+00,  2.80070267e+00, -1.55243379e-06]), array([-5.39401896e+01,  1.95374629e+02,  8.82856524e+02,  1.77390936e-03]), array([ 5.14996517e+01, -1.86533800e+02, -8.42906986e+02, -1.69364016e-03]), array([ 1.42905048e+01, -4.68309649e+01, -2.13143381e+02, -4.31801570e-04]), array([-4.14429416e+01,  1.45035601e+02,  6.56633873e+02,  1.32305174e-03]), array([ 3.76644244e+01, -1.41296256e+02, -6.36981130e+02, -1.27637071e-03]), array([-1.20374959e+01,  4.86143176e+01,  2.18443688e+02,  4.35280757e-04]), array([-1.33994225e-08,  5.07724742e-08,  2.28852514e-07,  1.00004589e-08])]\n",
      "\n",
      "Norm of dxzy: [6.013256315130616e-08, 221.23829507915474, 650.7598701812186, 676.6524212038285, 221.52605971214746, 437.03753801806533, 447.26531758810484, 3.8917622968515775, 3.8915538410609987, 905.8236208413683, 864.8348160025081, 218.69489897834129, 673.7365104996537, 653.5504572929096, 224.11135167312472, 2.347996204117241e-07]\n",
      "\n",
      "Error magnifications: [1.002903200975559e-05, 36898.575860630015, 108535.06364413255, 112853.47632124697, 36946.56983534714, 72890.01546831198, 74595.82548739517, 649.0760846377893, 649.0413179542027, 151075.1182475325, 144238.92144786846, 36474.38305108084, 112367.15476338864, 109000.48347662397, 37377.75012224036, 3.9160361467753154e-05]\n",
      "\n",
      "Max forward error: 905.8236208413683\n",
      "ConditionN: 151075.1182475325\n"
     ]
    }
   ],
   "source": [
    "# Calculate new times with every permutation of dt\n",
    "tnewarray3 = []\n",
    "for dt in dtarray:\n",
    "    tnewarray3.append(t3 + dt)\n",
    "tnewarray3 = np.array(tnewarray3)\n",
    "print('tnew: ' + str(tnewarray3))\n",
    "print('')\n",
    "\n",
    "# Calculate new position with each permuation of dt\n",
    "xyzarray3 = []\n",
    "for i in tnewarray3:\n",
    "    xyzarray3.append(Newton_system1(satmatrix3, loc, i))\n",
    "print('xyz: ' + str(xyzarray))\n",
    "print('')\n",
    "\n",
    "# Calculate change in posistion for each new xyz\n",
    "dxyzarray3 = []\n",
    "for i in xyzarray3:\n",
    "    dxyzarray3.append(xyz3 - i)\n",
    "print('dxyz: ' + str(dxyzarray3))\n",
    "print('')\n",
    "\n",
    "# Calculate each length of dxyz \n",
    "normdxyz3 = []\n",
    "for i in dxyzarray3:\n",
    "    normdxyz3.append(sqrt(i[0]**2 + i[1]**2 +i[2]**2))\n",
    "print('Norm of dxzy: ' + str(normdxyz3))\n",
    "print('')\n",
    "\n",
    "# norm of dt multiplied by speed of light\n",
    "normdt = sqrt((q**2)*4)\n",
    "normdt = normdt * 299792.458\n",
    "\n",
    "# Calculate error magnification for each dxyz\n",
    "errormag3 = []\n",
    "for i in normdxyz3:\n",
    "    errormag3.append(i/normdt)\n",
    "print('Error magnifications: ' + str(errormag3))\n",
    "print('')\n",
    "\n",
    "# Max forward error\n",
    "print('Max forward error: ' + str(np.max(normdxyz3)))\n",
    "\n",
    "# Max error magnification\n",
    "print('ConditionN: ' + str(np.max(errormag3)))"
   ]
  },
  {
   "cell_type": "code",
   "execution_count": null,
   "metadata": {},
   "outputs": [],
   "source": []
  },
  {
   "cell_type": "code",
   "execution_count": null,
   "metadata": {},
   "outputs": [],
   "source": []
  }
 ],
 "metadata": {
  "kernelspec": {
   "display_name": "Python 3",
   "language": "python",
   "name": "python3"
  },
  "language_info": {
   "codemirror_mode": {
    "name": "ipython",
    "version": 3
   },
   "file_extension": ".py",
   "mimetype": "text/x-python",
   "name": "python",
   "nbconvert_exporter": "python",
   "pygments_lexer": "ipython3",
   "version": "3.8.5"
  }
 },
 "nbformat": 4,
 "nbformat_minor": 4
}
