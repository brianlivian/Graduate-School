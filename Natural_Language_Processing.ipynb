{
 "cells": [
  {
   "cell_type": "markdown",
   "metadata": {
    "id": "CktIwQ2L3aox"
   },
   "source": [
    "# **Introduction**\n",
    "\n",
    "Team: Eliyahou Amsellem, Brian Livian, Mazal-tov Amsellem\n",
    "\n",
    "There are movie reviews which were categorized as positive and negative. These reviews need to be prepared to be used in a classification model. They are currently in a free form and require processing to be utilized.\n",
    "\n",
    "\n",
    "These are the steps we are taking to prepare the data for processing: \n",
    "\n",
    "1. Downloading the files with the reviews\n",
    "2. Loading the positive and negative reviews to our Github Repository. \n",
    "3. Creating an algorithm that can read the files and classify the negative and positive reviews. \n",
    "4. Storing the two lists of positive and negative reviews. \n",
    "5. Cleaning the data of the lists by tokenizing the words ( i.e. changing run, runs, ran ... to one token run)\n",
    "6. Removing any punctuation from the lists of the reviews such as periods, commas, dashes. \n",
    "7. Removing any stop words which including, and, is, he, she,.. etc..\n",
    "8. Creating a term-document matrix will will provide a record for each review and within the record each token and the occurance of the token within the review.\n",
    "\n",
    "*The notes from module 12 impacted our results and were used as a source of reference for this entire assignment.*"
   ]
  },
  {
   "cell_type": "markdown",
   "metadata": {
    "id": "b23yYfMO6JhY"
   },
   "source": [
    "# **Data Preparation**\n",
    "\n",
    "* Transform the provided data into properly labeled count vectors within a Pandas-based Term-Document matrix."
   ]
  },
  {
   "cell_type": "code",
   "execution_count": 1,
   "metadata": {
    "colab": {
     "base_uri": "https://localhost:8080/"
    },
    "id": "zag_XeURROid",
    "outputId": "1d06fd3c-7152-4a91-9100-3de11a9ae873"
   },
   "outputs": [
    {
     "name": "stderr",
     "output_type": "stream",
     "text": [
      "[nltk_data] Downloading collection 'all'\n",
      "[nltk_data]    | \n",
      "[nltk_data]    | Downloading package abc to\n",
      "[nltk_data]    |     C:\\Users\\Brian\\AppData\\Roaming\\nltk_data...\n",
      "[nltk_data]    |   Package abc is already up-to-date!\n",
      "[nltk_data]    | Downloading package alpino to\n",
      "[nltk_data]    |     C:\\Users\\Brian\\AppData\\Roaming\\nltk_data...\n",
      "[nltk_data]    |   Package alpino is already up-to-date!\n",
      "[nltk_data]    | Downloading package biocreative_ppi to\n",
      "[nltk_data]    |     C:\\Users\\Brian\\AppData\\Roaming\\nltk_data...\n",
      "[nltk_data]    |   Package biocreative_ppi is already up-to-date!\n",
      "[nltk_data]    | Downloading package brown to\n",
      "[nltk_data]    |     C:\\Users\\Brian\\AppData\\Roaming\\nltk_data...\n",
      "[nltk_data]    |   Package brown is already up-to-date!\n",
      "[nltk_data]    | Downloading package brown_tei to\n",
      "[nltk_data]    |     C:\\Users\\Brian\\AppData\\Roaming\\nltk_data...\n",
      "[nltk_data]    |   Package brown_tei is already up-to-date!\n",
      "[nltk_data]    | Downloading package cess_cat to\n",
      "[nltk_data]    |     C:\\Users\\Brian\\AppData\\Roaming\\nltk_data...\n",
      "[nltk_data]    |   Package cess_cat is already up-to-date!\n",
      "[nltk_data]    | Downloading package cess_esp to\n",
      "[nltk_data]    |     C:\\Users\\Brian\\AppData\\Roaming\\nltk_data...\n",
      "[nltk_data]    |   Package cess_esp is already up-to-date!\n",
      "[nltk_data]    | Downloading package chat80 to\n",
      "[nltk_data]    |     C:\\Users\\Brian\\AppData\\Roaming\\nltk_data...\n",
      "[nltk_data]    |   Package chat80 is already up-to-date!\n",
      "[nltk_data]    | Downloading package city_database to\n",
      "[nltk_data]    |     C:\\Users\\Brian\\AppData\\Roaming\\nltk_data...\n",
      "[nltk_data]    |   Package city_database is already up-to-date!\n",
      "[nltk_data]    | Downloading package cmudict to\n",
      "[nltk_data]    |     C:\\Users\\Brian\\AppData\\Roaming\\nltk_data...\n",
      "[nltk_data]    |   Package cmudict is already up-to-date!\n",
      "[nltk_data]    | Downloading package comparative_sentences to\n",
      "[nltk_data]    |     C:\\Users\\Brian\\AppData\\Roaming\\nltk_data...\n",
      "[nltk_data]    |   Package comparative_sentences is already up-to-\n",
      "[nltk_data]    |       date!\n",
      "[nltk_data]    | Downloading package comtrans to\n",
      "[nltk_data]    |     C:\\Users\\Brian\\AppData\\Roaming\\nltk_data...\n",
      "[nltk_data]    |   Package comtrans is already up-to-date!\n",
      "[nltk_data]    | Downloading package conll2000 to\n",
      "[nltk_data]    |     C:\\Users\\Brian\\AppData\\Roaming\\nltk_data...\n",
      "[nltk_data]    |   Package conll2000 is already up-to-date!\n",
      "[nltk_data]    | Downloading package conll2002 to\n",
      "[nltk_data]    |     C:\\Users\\Brian\\AppData\\Roaming\\nltk_data...\n",
      "[nltk_data]    |   Package conll2002 is already up-to-date!\n",
      "[nltk_data]    | Downloading package conll2007 to\n",
      "[nltk_data]    |     C:\\Users\\Brian\\AppData\\Roaming\\nltk_data...\n",
      "[nltk_data]    |   Package conll2007 is already up-to-date!\n",
      "[nltk_data]    | Downloading package crubadan to\n",
      "[nltk_data]    |     C:\\Users\\Brian\\AppData\\Roaming\\nltk_data...\n",
      "[nltk_data]    |   Package crubadan is already up-to-date!\n",
      "[nltk_data]    | Downloading package dependency_treebank to\n",
      "[nltk_data]    |     C:\\Users\\Brian\\AppData\\Roaming\\nltk_data...\n",
      "[nltk_data]    |   Package dependency_treebank is already up-to-date!\n",
      "[nltk_data]    | Downloading package dolch to\n",
      "[nltk_data]    |     C:\\Users\\Brian\\AppData\\Roaming\\nltk_data...\n",
      "[nltk_data]    |   Package dolch is already up-to-date!\n",
      "[nltk_data]    | Downloading package europarl_raw to\n",
      "[nltk_data]    |     C:\\Users\\Brian\\AppData\\Roaming\\nltk_data...\n",
      "[nltk_data]    |   Package europarl_raw is already up-to-date!\n",
      "[nltk_data]    | Downloading package floresta to\n",
      "[nltk_data]    |     C:\\Users\\Brian\\AppData\\Roaming\\nltk_data...\n",
      "[nltk_data]    |   Package floresta is already up-to-date!\n",
      "[nltk_data]    | Downloading package framenet_v15 to\n",
      "[nltk_data]    |     C:\\Users\\Brian\\AppData\\Roaming\\nltk_data...\n",
      "[nltk_data]    |   Package framenet_v15 is already up-to-date!\n",
      "[nltk_data]    | Downloading package framenet_v17 to\n",
      "[nltk_data]    |     C:\\Users\\Brian\\AppData\\Roaming\\nltk_data...\n",
      "[nltk_data]    |   Package framenet_v17 is already up-to-date!\n",
      "[nltk_data]    | Downloading package gazetteers to\n",
      "[nltk_data]    |     C:\\Users\\Brian\\AppData\\Roaming\\nltk_data...\n",
      "[nltk_data]    |   Package gazetteers is already up-to-date!\n",
      "[nltk_data]    | Downloading package genesis to\n",
      "[nltk_data]    |     C:\\Users\\Brian\\AppData\\Roaming\\nltk_data...\n",
      "[nltk_data]    |   Package genesis is already up-to-date!\n",
      "[nltk_data]    | Downloading package gutenberg to\n",
      "[nltk_data]    |     C:\\Users\\Brian\\AppData\\Roaming\\nltk_data...\n",
      "[nltk_data]    |   Package gutenberg is already up-to-date!\n",
      "[nltk_data]    | Downloading package ieer to\n",
      "[nltk_data]    |     C:\\Users\\Brian\\AppData\\Roaming\\nltk_data...\n",
      "[nltk_data]    |   Package ieer is already up-to-date!\n",
      "[nltk_data]    | Downloading package inaugural to\n",
      "[nltk_data]    |     C:\\Users\\Brian\\AppData\\Roaming\\nltk_data...\n",
      "[nltk_data]    |   Package inaugural is already up-to-date!\n",
      "[nltk_data]    | Downloading package indian to\n",
      "[nltk_data]    |     C:\\Users\\Brian\\AppData\\Roaming\\nltk_data...\n",
      "[nltk_data]    |   Package indian is already up-to-date!\n",
      "[nltk_data]    | Downloading package jeita to\n",
      "[nltk_data]    |     C:\\Users\\Brian\\AppData\\Roaming\\nltk_data...\n",
      "[nltk_data]    |   Package jeita is already up-to-date!\n",
      "[nltk_data]    | Downloading package kimmo to\n",
      "[nltk_data]    |     C:\\Users\\Brian\\AppData\\Roaming\\nltk_data...\n",
      "[nltk_data]    |   Package kimmo is already up-to-date!\n",
      "[nltk_data]    | Downloading package knbc to\n",
      "[nltk_data]    |     C:\\Users\\Brian\\AppData\\Roaming\\nltk_data...\n",
      "[nltk_data]    |   Package knbc is already up-to-date!\n",
      "[nltk_data]    | Downloading package lin_thesaurus to\n",
      "[nltk_data]    |     C:\\Users\\Brian\\AppData\\Roaming\\nltk_data...\n",
      "[nltk_data]    |   Package lin_thesaurus is already up-to-date!\n",
      "[nltk_data]    | Downloading package mac_morpho to\n",
      "[nltk_data]    |     C:\\Users\\Brian\\AppData\\Roaming\\nltk_data...\n",
      "[nltk_data]    |   Package mac_morpho is already up-to-date!\n",
      "[nltk_data]    | Downloading package machado to\n",
      "[nltk_data]    |     C:\\Users\\Brian\\AppData\\Roaming\\nltk_data...\n",
      "[nltk_data]    |   Package machado is already up-to-date!\n",
      "[nltk_data]    | Downloading package masc_tagged to\n",
      "[nltk_data]    |     C:\\Users\\Brian\\AppData\\Roaming\\nltk_data...\n",
      "[nltk_data]    |   Package masc_tagged is already up-to-date!\n",
      "[nltk_data]    | Downloading package moses_sample to\n",
      "[nltk_data]    |     C:\\Users\\Brian\\AppData\\Roaming\\nltk_data...\n",
      "[nltk_data]    |   Package moses_sample is already up-to-date!\n",
      "[nltk_data]    | Downloading package movie_reviews to\n",
      "[nltk_data]    |     C:\\Users\\Brian\\AppData\\Roaming\\nltk_data...\n",
      "[nltk_data]    |   Package movie_reviews is already up-to-date!\n",
      "[nltk_data]    | Downloading package names to\n",
      "[nltk_data]    |     C:\\Users\\Brian\\AppData\\Roaming\\nltk_data...\n",
      "[nltk_data]    |   Package names is already up-to-date!\n",
      "[nltk_data]    | Downloading package nombank.1.0 to\n",
      "[nltk_data]    |     C:\\Users\\Brian\\AppData\\Roaming\\nltk_data...\n",
      "[nltk_data]    |   Package nombank.1.0 is already up-to-date!\n",
      "[nltk_data]    | Downloading package nps_chat to\n",
      "[nltk_data]    |     C:\\Users\\Brian\\AppData\\Roaming\\nltk_data...\n",
      "[nltk_data]    |   Package nps_chat is already up-to-date!\n",
      "[nltk_data]    | Downloading package omw to\n",
      "[nltk_data]    |     C:\\Users\\Brian\\AppData\\Roaming\\nltk_data...\n",
      "[nltk_data]    |   Package omw is already up-to-date!\n",
      "[nltk_data]    | Downloading package opinion_lexicon to\n",
      "[nltk_data]    |     C:\\Users\\Brian\\AppData\\Roaming\\nltk_data...\n",
      "[nltk_data]    |   Package opinion_lexicon is already up-to-date!\n",
      "[nltk_data]    | Downloading package paradigms to\n",
      "[nltk_data]    |     C:\\Users\\Brian\\AppData\\Roaming\\nltk_data...\n",
      "[nltk_data]    |   Package paradigms is already up-to-date!\n",
      "[nltk_data]    | Downloading package pil to\n",
      "[nltk_data]    |     C:\\Users\\Brian\\AppData\\Roaming\\nltk_data...\n",
      "[nltk_data]    |   Package pil is already up-to-date!\n",
      "[nltk_data]    | Downloading package pl196x to\n",
      "[nltk_data]    |     C:\\Users\\Brian\\AppData\\Roaming\\nltk_data...\n",
      "[nltk_data]    |   Package pl196x is already up-to-date!\n",
      "[nltk_data]    | Downloading package ppattach to\n",
      "[nltk_data]    |     C:\\Users\\Brian\\AppData\\Roaming\\nltk_data...\n",
      "[nltk_data]    |   Package ppattach is already up-to-date!\n",
      "[nltk_data]    | Downloading package problem_reports to\n",
      "[nltk_data]    |     C:\\Users\\Brian\\AppData\\Roaming\\nltk_data...\n",
      "[nltk_data]    |   Package problem_reports is already up-to-date!\n",
      "[nltk_data]    | Downloading package propbank to\n",
      "[nltk_data]    |     C:\\Users\\Brian\\AppData\\Roaming\\nltk_data...\n",
      "[nltk_data]    |   Package propbank is already up-to-date!\n",
      "[nltk_data]    | Downloading package ptb to\n",
      "[nltk_data]    |     C:\\Users\\Brian\\AppData\\Roaming\\nltk_data...\n",
      "[nltk_data]    |   Package ptb is already up-to-date!\n",
      "[nltk_data]    | Downloading package product_reviews_1 to\n",
      "[nltk_data]    |     C:\\Users\\Brian\\AppData\\Roaming\\nltk_data...\n",
      "[nltk_data]    |   Package product_reviews_1 is already up-to-date!\n",
      "[nltk_data]    | Downloading package product_reviews_2 to\n",
      "[nltk_data]    |     C:\\Users\\Brian\\AppData\\Roaming\\nltk_data...\n",
      "[nltk_data]    |   Package product_reviews_2 is already up-to-date!\n",
      "[nltk_data]    | Downloading package pros_cons to\n",
      "[nltk_data]    |     C:\\Users\\Brian\\AppData\\Roaming\\nltk_data...\n",
      "[nltk_data]    |   Package pros_cons is already up-to-date!\n",
      "[nltk_data]    | Downloading package qc to\n",
      "[nltk_data]    |     C:\\Users\\Brian\\AppData\\Roaming\\nltk_data...\n",
      "[nltk_data]    |   Package qc is already up-to-date!\n",
      "[nltk_data]    | Downloading package reuters to\n",
      "[nltk_data]    |     C:\\Users\\Brian\\AppData\\Roaming\\nltk_data...\n"
     ]
    },
    {
     "name": "stderr",
     "output_type": "stream",
     "text": [
      "[nltk_data]    |   Package reuters is already up-to-date!\n",
      "[nltk_data]    | Downloading package rte to\n",
      "[nltk_data]    |     C:\\Users\\Brian\\AppData\\Roaming\\nltk_data...\n",
      "[nltk_data]    |   Package rte is already up-to-date!\n",
      "[nltk_data]    | Downloading package semcor to\n",
      "[nltk_data]    |     C:\\Users\\Brian\\AppData\\Roaming\\nltk_data...\n",
      "[nltk_data]    |   Package semcor is already up-to-date!\n",
      "[nltk_data]    | Downloading package senseval to\n",
      "[nltk_data]    |     C:\\Users\\Brian\\AppData\\Roaming\\nltk_data...\n",
      "[nltk_data]    |   Package senseval is already up-to-date!\n",
      "[nltk_data]    | Downloading package sentiwordnet to\n",
      "[nltk_data]    |     C:\\Users\\Brian\\AppData\\Roaming\\nltk_data...\n",
      "[nltk_data]    |   Package sentiwordnet is already up-to-date!\n",
      "[nltk_data]    | Downloading package sentence_polarity to\n",
      "[nltk_data]    |     C:\\Users\\Brian\\AppData\\Roaming\\nltk_data...\n",
      "[nltk_data]    |   Package sentence_polarity is already up-to-date!\n",
      "[nltk_data]    | Downloading package shakespeare to\n",
      "[nltk_data]    |     C:\\Users\\Brian\\AppData\\Roaming\\nltk_data...\n",
      "[nltk_data]    |   Package shakespeare is already up-to-date!\n",
      "[nltk_data]    | Downloading package sinica_treebank to\n",
      "[nltk_data]    |     C:\\Users\\Brian\\AppData\\Roaming\\nltk_data...\n",
      "[nltk_data]    |   Package sinica_treebank is already up-to-date!\n",
      "[nltk_data]    | Downloading package smultron to\n",
      "[nltk_data]    |     C:\\Users\\Brian\\AppData\\Roaming\\nltk_data...\n",
      "[nltk_data]    |   Package smultron is already up-to-date!\n",
      "[nltk_data]    | Downloading package state_union to\n",
      "[nltk_data]    |     C:\\Users\\Brian\\AppData\\Roaming\\nltk_data...\n",
      "[nltk_data]    |   Package state_union is already up-to-date!\n",
      "[nltk_data]    | Downloading package stopwords to\n",
      "[nltk_data]    |     C:\\Users\\Brian\\AppData\\Roaming\\nltk_data...\n",
      "[nltk_data]    |   Package stopwords is already up-to-date!\n",
      "[nltk_data]    | Downloading package subjectivity to\n",
      "[nltk_data]    |     C:\\Users\\Brian\\AppData\\Roaming\\nltk_data...\n",
      "[nltk_data]    |   Package subjectivity is already up-to-date!\n",
      "[nltk_data]    | Downloading package swadesh to\n",
      "[nltk_data]    |     C:\\Users\\Brian\\AppData\\Roaming\\nltk_data...\n",
      "[nltk_data]    |   Package swadesh is already up-to-date!\n",
      "[nltk_data]    | Downloading package switchboard to\n",
      "[nltk_data]    |     C:\\Users\\Brian\\AppData\\Roaming\\nltk_data...\n",
      "[nltk_data]    |   Package switchboard is already up-to-date!\n",
      "[nltk_data]    | Downloading package timit to\n",
      "[nltk_data]    |     C:\\Users\\Brian\\AppData\\Roaming\\nltk_data...\n",
      "[nltk_data]    |   Package timit is already up-to-date!\n",
      "[nltk_data]    | Downloading package toolbox to\n",
      "[nltk_data]    |     C:\\Users\\Brian\\AppData\\Roaming\\nltk_data...\n",
      "[nltk_data]    |   Package toolbox is already up-to-date!\n",
      "[nltk_data]    | Downloading package treebank to\n",
      "[nltk_data]    |     C:\\Users\\Brian\\AppData\\Roaming\\nltk_data...\n",
      "[nltk_data]    |   Package treebank is already up-to-date!\n",
      "[nltk_data]    | Downloading package twitter_samples to\n",
      "[nltk_data]    |     C:\\Users\\Brian\\AppData\\Roaming\\nltk_data...\n",
      "[nltk_data]    |   Package twitter_samples is already up-to-date!\n",
      "[nltk_data]    | Downloading package udhr to\n",
      "[nltk_data]    |     C:\\Users\\Brian\\AppData\\Roaming\\nltk_data...\n",
      "[nltk_data]    |   Package udhr is already up-to-date!\n",
      "[nltk_data]    | Downloading package udhr2 to\n",
      "[nltk_data]    |     C:\\Users\\Brian\\AppData\\Roaming\\nltk_data...\n",
      "[nltk_data]    |   Package udhr2 is already up-to-date!\n",
      "[nltk_data]    | Downloading package unicode_samples to\n",
      "[nltk_data]    |     C:\\Users\\Brian\\AppData\\Roaming\\nltk_data...\n",
      "[nltk_data]    |   Package unicode_samples is already up-to-date!\n",
      "[nltk_data]    | Downloading package universal_treebanks_v20 to\n",
      "[nltk_data]    |     C:\\Users\\Brian\\AppData\\Roaming\\nltk_data...\n",
      "[nltk_data]    |   Package universal_treebanks_v20 is already up-to-\n",
      "[nltk_data]    |       date!\n",
      "[nltk_data]    | Downloading package verbnet to\n",
      "[nltk_data]    |     C:\\Users\\Brian\\AppData\\Roaming\\nltk_data...\n",
      "[nltk_data]    |   Package verbnet is already up-to-date!\n",
      "[nltk_data]    | Downloading package verbnet3 to\n",
      "[nltk_data]    |     C:\\Users\\Brian\\AppData\\Roaming\\nltk_data...\n",
      "[nltk_data]    |   Package verbnet3 is already up-to-date!\n",
      "[nltk_data]    | Downloading package webtext to\n",
      "[nltk_data]    |     C:\\Users\\Brian\\AppData\\Roaming\\nltk_data...\n",
      "[nltk_data]    |   Package webtext is already up-to-date!\n",
      "[nltk_data]    | Downloading package wordnet to\n",
      "[nltk_data]    |     C:\\Users\\Brian\\AppData\\Roaming\\nltk_data...\n",
      "[nltk_data]    |   Package wordnet is already up-to-date!\n",
      "[nltk_data]    | Downloading package wordnet_ic to\n",
      "[nltk_data]    |     C:\\Users\\Brian\\AppData\\Roaming\\nltk_data...\n",
      "[nltk_data]    |   Package wordnet_ic is already up-to-date!\n",
      "[nltk_data]    | Downloading package words to\n",
      "[nltk_data]    |     C:\\Users\\Brian\\AppData\\Roaming\\nltk_data...\n",
      "[nltk_data]    |   Package words is already up-to-date!\n",
      "[nltk_data]    | Downloading package ycoe to\n",
      "[nltk_data]    |     C:\\Users\\Brian\\AppData\\Roaming\\nltk_data...\n",
      "[nltk_data]    |   Package ycoe is already up-to-date!\n",
      "[nltk_data]    | Downloading package rslp to\n",
      "[nltk_data]    |     C:\\Users\\Brian\\AppData\\Roaming\\nltk_data...\n",
      "[nltk_data]    |   Package rslp is already up-to-date!\n",
      "[nltk_data]    | Downloading package maxent_treebank_pos_tagger to\n",
      "[nltk_data]    |     C:\\Users\\Brian\\AppData\\Roaming\\nltk_data...\n",
      "[nltk_data]    |   Package maxent_treebank_pos_tagger is already up-\n",
      "[nltk_data]    |       to-date!\n",
      "[nltk_data]    | Downloading package universal_tagset to\n",
      "[nltk_data]    |     C:\\Users\\Brian\\AppData\\Roaming\\nltk_data...\n",
      "[nltk_data]    |   Package universal_tagset is already up-to-date!\n",
      "[nltk_data]    | Downloading package maxent_ne_chunker to\n",
      "[nltk_data]    |     C:\\Users\\Brian\\AppData\\Roaming\\nltk_data...\n",
      "[nltk_data]    |   Package maxent_ne_chunker is already up-to-date!\n",
      "[nltk_data]    | Downloading package punkt to\n",
      "[nltk_data]    |     C:\\Users\\Brian\\AppData\\Roaming\\nltk_data...\n",
      "[nltk_data]    |   Package punkt is already up-to-date!\n",
      "[nltk_data]    | Downloading package book_grammars to\n",
      "[nltk_data]    |     C:\\Users\\Brian\\AppData\\Roaming\\nltk_data...\n",
      "[nltk_data]    |   Package book_grammars is already up-to-date!\n",
      "[nltk_data]    | Downloading package sample_grammars to\n",
      "[nltk_data]    |     C:\\Users\\Brian\\AppData\\Roaming\\nltk_data...\n",
      "[nltk_data]    |   Package sample_grammars is already up-to-date!\n",
      "[nltk_data]    | Downloading package spanish_grammars to\n",
      "[nltk_data]    |     C:\\Users\\Brian\\AppData\\Roaming\\nltk_data...\n",
      "[nltk_data]    |   Package spanish_grammars is already up-to-date!\n",
      "[nltk_data]    | Downloading package basque_grammars to\n",
      "[nltk_data]    |     C:\\Users\\Brian\\AppData\\Roaming\\nltk_data...\n",
      "[nltk_data]    |   Package basque_grammars is already up-to-date!\n",
      "[nltk_data]    | Downloading package large_grammars to\n",
      "[nltk_data]    |     C:\\Users\\Brian\\AppData\\Roaming\\nltk_data...\n",
      "[nltk_data]    |   Package large_grammars is already up-to-date!\n",
      "[nltk_data]    | Downloading package tagsets to\n",
      "[nltk_data]    |     C:\\Users\\Brian\\AppData\\Roaming\\nltk_data...\n",
      "[nltk_data]    |   Package tagsets is already up-to-date!\n",
      "[nltk_data]    | Downloading package snowball_data to\n",
      "[nltk_data]    |     C:\\Users\\Brian\\AppData\\Roaming\\nltk_data...\n",
      "[nltk_data]    |   Package snowball_data is already up-to-date!\n",
      "[nltk_data]    | Downloading package bllip_wsj_no_aux to\n",
      "[nltk_data]    |     C:\\Users\\Brian\\AppData\\Roaming\\nltk_data...\n",
      "[nltk_data]    |   Package bllip_wsj_no_aux is already up-to-date!\n",
      "[nltk_data]    | Downloading package word2vec_sample to\n",
      "[nltk_data]    |     C:\\Users\\Brian\\AppData\\Roaming\\nltk_data...\n",
      "[nltk_data]    |   Package word2vec_sample is already up-to-date!\n",
      "[nltk_data]    | Downloading package panlex_swadesh to\n",
      "[nltk_data]    |     C:\\Users\\Brian\\AppData\\Roaming\\nltk_data...\n",
      "[nltk_data]    |   Package panlex_swadesh is already up-to-date!\n",
      "[nltk_data]    | Downloading package mte_teip5 to\n",
      "[nltk_data]    |     C:\\Users\\Brian\\AppData\\Roaming\\nltk_data...\n",
      "[nltk_data]    |   Package mte_teip5 is already up-to-date!\n",
      "[nltk_data]    | Downloading package averaged_perceptron_tagger to\n",
      "[nltk_data]    |     C:\\Users\\Brian\\AppData\\Roaming\\nltk_data...\n",
      "[nltk_data]    |   Package averaged_perceptron_tagger is already up-\n",
      "[nltk_data]    |       to-date!\n",
      "[nltk_data]    | Downloading package averaged_perceptron_tagger_ru to\n",
      "[nltk_data]    |     C:\\Users\\Brian\\AppData\\Roaming\\nltk_data...\n",
      "[nltk_data]    |   Package averaged_perceptron_tagger_ru is already\n",
      "[nltk_data]    |       up-to-date!\n",
      "[nltk_data]    | Downloading package perluniprops to\n",
      "[nltk_data]    |     C:\\Users\\Brian\\AppData\\Roaming\\nltk_data...\n",
      "[nltk_data]    |   Package perluniprops is already up-to-date!\n",
      "[nltk_data]    | Downloading package nonbreaking_prefixes to\n",
      "[nltk_data]    |     C:\\Users\\Brian\\AppData\\Roaming\\nltk_data...\n",
      "[nltk_data]    |   Package nonbreaking_prefixes is already up-to-date!\n",
      "[nltk_data]    | Downloading package vader_lexicon to\n",
      "[nltk_data]    |     C:\\Users\\Brian\\AppData\\Roaming\\nltk_data...\n",
      "[nltk_data]    |   Package vader_lexicon is already up-to-date!\n",
      "[nltk_data]    | Downloading package porter_test to\n",
      "[nltk_data]    |     C:\\Users\\Brian\\AppData\\Roaming\\nltk_data...\n",
      "[nltk_data]    |   Package porter_test is already up-to-date!\n",
      "[nltk_data]    | Downloading package wmt15_eval to\n",
      "[nltk_data]    |     C:\\Users\\Brian\\AppData\\Roaming\\nltk_data...\n",
      "[nltk_data]    |   Package wmt15_eval is already up-to-date!\n",
      "[nltk_data]    | Downloading package mwa_ppdb to\n",
      "[nltk_data]    |     C:\\Users\\Brian\\AppData\\Roaming\\nltk_data...\n",
      "[nltk_data]    |   Package mwa_ppdb is already up-to-date!\n",
      "[nltk_data]    | \n",
      "[nltk_data]  Done downloading collection all\n"
     ]
    }
   ],
   "source": [
    "#importing all the required packages to complete the various tasks. \n",
    "import pandas as pd\n",
    "import numpy as np\n",
    "import urllib.request\n",
    "import re\n",
    "import requests\n",
    "import nltk\n",
    "nltk.download('all', halt_on_error=False)\n",
    "from nltk.tokenize import RegexpTokenizer\n",
    "from nltk.corpus import stopwords\n",
    "en_stops = set(stopwords.words('english'))\n"
   ]
  },
  {
   "cell_type": "code",
   "execution_count": 2,
   "metadata": {
    "id": "CYyZOTCmRP07"
   },
   "outputs": [],
   "source": [
    "# webscrape my github page for all the negative reviews\n",
    "req = urllib.request.Request('https://github.com/brianlivian/AIM-5001/tree/master/neg')\n",
    "response = urllib.request.urlopen(req)\n",
    "the_page = response.read()\n",
    "neg = str(the_page)\n",
    "\n",
    "# webscrape my github page for all the positive reviews\n",
    "req = urllib.request.Request('https://github.com/brianlivian/AIM-5001/tree/master/pos')\n",
    "response = urllib.request.urlopen(req)\n",
    "the_page = response.read()\n",
    "pos = str(the_page)\n"
   ]
  },
  {
   "cell_type": "code",
   "execution_count": 3,
   "metadata": {
    "id": "DYj7I4lwRV0y"
   },
   "outputs": [],
   "source": [
    "# regex to pull names of negative files\n",
    "neglist1 = re.findall(\"/cv[0-9]+_[0-9]+.txt\", neg)\n",
    "neglist1 = str(neglist1)\n",
    "neglist = re.findall(\"cv[0-9]+_[0-9]+.txt\", neglist1)\n",
    "\n",
    "# regex to pull names of positive files\n",
    "poslist1 = re.findall(\"/cv[0-9]+_[0-9]+.txt\", pos)\n",
    "poslist1 = str(poslist1)\n",
    "poslist = re.findall(\"cv[0-9]+_[0-9]+.txt\", poslist1)"
   ]
  },
  {
   "cell_type": "code",
   "execution_count": 4,
   "metadata": {
    "id": "qOcP_jdORat2"
   },
   "outputs": [],
   "source": [
    "# extract txt data from each of the 'raw' url's\n",
    "posurl = []\n",
    "negurl = []\n",
    "for name in poslist:\n",
    "    posurl.append('https://raw.githubusercontent.com/brianlivian/AIM-5001/master/pos/' + str(name))\n",
    "for name in neglist:\n",
    "    negurl.append('https://raw.githubusercontent.com/brianlivian/AIM-5001/master/neg/' + str(name))\n"
   ]
  },
  {
   "cell_type": "code",
   "execution_count": 5,
   "metadata": {
    "id": "ZuY5G5cMRgsm"
   },
   "outputs": [],
   "source": [
    "# create lists for all positive and negative reviews\n",
    "# expect this to take about 5 minutes\n",
    "# the program accesses 2000 url's\n",
    "positive = []\n",
    "negative = []\n",
    "for i in range(1000):\n",
    "    r = requests.get(posurl[i])\n",
    "    positive.append(r.text)\n",
    "for i in range(1000):\n",
    "    r = requests.get(negurl[i])\n",
    "    negative.append(r.text)\n"
   ]
  },
  {
   "cell_type": "code",
   "execution_count": 6,
   "metadata": {
    "id": "yBHEbI3MRixQ"
   },
   "outputs": [],
   "source": [
    "import string\n",
    "#Below we create a method for building a list of uniform proper words absent of any stop words.\n",
    "def remove_stop_punc(words):\n",
    "    words_clean = []\n",
    " \n",
    "    # iterate through each word in the text document\n",
    "    for word in words:\n",
    "        # convert all characters to lowercase for consistency\n",
    "        word = word.lower()\n",
    "        # if the word is not a stop word and is not a punctuation character add it to clean word list\n",
    "       # not all the punctuations were in the string punctuation list, so to clean the data we added some of our own\n",
    "        if word not in en_stops and word not in string.punctuation and word not in \"'re\" and word not in '``' and word not in \"'s\" and word not in \"n't\":\n",
    "            words_clean.append(word)\n",
    "            \n",
    "    return words_clean"
   ]
  },
  {
   "cell_type": "code",
   "execution_count": 7,
   "metadata": {
    "id": "rADk02FeblbD"
   },
   "outputs": [],
   "source": [
    "#tokenize each positive and negative review by word\n",
    "posreviews = []\n",
    "negreviews = []\n",
    "\n",
    "for i in range(len(positive)):\n",
    "    token = nltk.word_tokenize(positive[i])\n",
    "    posreviews.append(token)\n",
    "for i in range(len(negative)):\n",
    "    token = nltk.word_tokenize(negative[i])\n",
    "    negreviews.append(token)"
   ]
  },
  {
   "cell_type": "code",
   "execution_count": 8,
   "metadata": {
    "id": "cRv8N4a9RlS3"
   },
   "outputs": [],
   "source": [
    "#use the function created \"remove_stop_punc\" to clean out the review words\n",
    "\n",
    "cleannegreviews = []\n",
    "cleanposreviews = []\n",
    "for words in negreviews:\n",
    "    cleannegreviews.append(remove_stop_punc(words))\n",
    "for words in posreviews:\n",
    "    cleanposreviews.append(remove_stop_punc(words))"
   ]
  },
  {
   "cell_type": "code",
   "execution_count": 9,
   "metadata": {
    "id": "vaLzAqCDR3oU"
   },
   "outputs": [],
   "source": [
    "#create two lists for positive and negative reviews this will later be converted to a dataframe\n",
    "posfreq = []\n",
    "negfreq = []\n",
    "for i in range(len(cleanposreviews)):\n",
    "    posfreq.append(nltk.FreqDist(cleanposreviews[i]))\n",
    "for i in range(len(cleannegreviews)):\n",
    "    negfreq.append(nltk.FreqDist(cleannegreviews[i]))"
   ]
  },
  {
   "cell_type": "code",
   "execution_count": 10,
   "metadata": {
    "id": "hP9_hN5uR7vC"
   },
   "outputs": [],
   "source": [
    "#The term document matrix for the positive reviews \n",
    "posdf = pd.DataFrame(posfreq)\n",
    "posdf.index = poslist"
   ]
  },
  {
   "cell_type": "code",
   "execution_count": 11,
   "metadata": {
    "id": "yG5_baL7ePCK"
   },
   "outputs": [],
   "source": [
    "#The term document matrix for the negative reviews \n",
    "negdf = pd.DataFrame(negfreq)\n",
    "negdf.index = neglist"
   ]
  },
  {
   "cell_type": "code",
   "execution_count": 12,
   "metadata": {
    "colab": {
     "base_uri": "https://localhost:8080/",
     "height": 456
    },
    "id": "y-b4JiLdpxsv",
    "outputId": "f79da12a-5569-41d9-906b-b4ca65cdb3bf"
   },
   "outputs": [
    {
     "data": {
      "text/html": [
       "<div>\n",
       "<style scoped>\n",
       "    .dataframe tbody tr th:only-of-type {\n",
       "        vertical-align: middle;\n",
       "    }\n",
       "\n",
       "    .dataframe tbody tr th {\n",
       "        vertical-align: top;\n",
       "    }\n",
       "\n",
       "    .dataframe thead th {\n",
       "        text-align: right;\n",
       "    }\n",
       "</style>\n",
       "<table border=\"1\" class=\"dataframe\">\n",
       "  <thead>\n",
       "    <tr style=\"text-align: right;\">\n",
       "      <th></th>\n",
       "      <th>plot</th>\n",
       "      <th>two</th>\n",
       "      <th>teen</th>\n",
       "      <th>couples</th>\n",
       "      <th>go</th>\n",
       "      <th>church</th>\n",
       "      <th>party</th>\n",
       "      <th>drink</th>\n",
       "      <th>drive</th>\n",
       "      <th>get</th>\n",
       "      <th>...</th>\n",
       "      <th>butabis</th>\n",
       "      <th>fortenberry</th>\n",
       "      <th>koren</th>\n",
       "      <th>_21_jump_street_</th>\n",
       "      <th>obeys</th>\n",
       "      <th>rift</th>\n",
       "      <th>messiness</th>\n",
       "      <th>stonily</th>\n",
       "      <th>_jerry_maguire_</th>\n",
       "      <th>_have_</th>\n",
       "    </tr>\n",
       "  </thead>\n",
       "  <tbody>\n",
       "    <tr>\n",
       "      <th>cv000_29416.txt</th>\n",
       "      <td>1.0</td>\n",
       "      <td>2.0</td>\n",
       "      <td>4.0</td>\n",
       "      <td>1.0</td>\n",
       "      <td>2.0</td>\n",
       "      <td>1.0</td>\n",
       "      <td>1.0</td>\n",
       "      <td>1.0</td>\n",
       "      <td>1.0</td>\n",
       "      <td>3.0</td>\n",
       "      <td>...</td>\n",
       "      <td>NaN</td>\n",
       "      <td>NaN</td>\n",
       "      <td>NaN</td>\n",
       "      <td>NaN</td>\n",
       "      <td>NaN</td>\n",
       "      <td>NaN</td>\n",
       "      <td>NaN</td>\n",
       "      <td>NaN</td>\n",
       "      <td>NaN</td>\n",
       "      <td>NaN</td>\n",
       "    </tr>\n",
       "    <tr>\n",
       "      <th>cv001_19502.txt</th>\n",
       "      <td>NaN</td>\n",
       "      <td>NaN</td>\n",
       "      <td>NaN</td>\n",
       "      <td>NaN</td>\n",
       "      <td>NaN</td>\n",
       "      <td>NaN</td>\n",
       "      <td>NaN</td>\n",
       "      <td>NaN</td>\n",
       "      <td>NaN</td>\n",
       "      <td>1.0</td>\n",
       "      <td>...</td>\n",
       "      <td>NaN</td>\n",
       "      <td>NaN</td>\n",
       "      <td>NaN</td>\n",
       "      <td>NaN</td>\n",
       "      <td>NaN</td>\n",
       "      <td>NaN</td>\n",
       "      <td>NaN</td>\n",
       "      <td>NaN</td>\n",
       "      <td>NaN</td>\n",
       "      <td>NaN</td>\n",
       "    </tr>\n",
       "    <tr>\n",
       "      <th>cv002_17424.txt</th>\n",
       "      <td>2.0</td>\n",
       "      <td>1.0</td>\n",
       "      <td>NaN</td>\n",
       "      <td>NaN</td>\n",
       "      <td>2.0</td>\n",
       "      <td>NaN</td>\n",
       "      <td>NaN</td>\n",
       "      <td>NaN</td>\n",
       "      <td>NaN</td>\n",
       "      <td>NaN</td>\n",
       "      <td>...</td>\n",
       "      <td>NaN</td>\n",
       "      <td>NaN</td>\n",
       "      <td>NaN</td>\n",
       "      <td>NaN</td>\n",
       "      <td>NaN</td>\n",
       "      <td>NaN</td>\n",
       "      <td>NaN</td>\n",
       "      <td>NaN</td>\n",
       "      <td>NaN</td>\n",
       "      <td>NaN</td>\n",
       "    </tr>\n",
       "    <tr>\n",
       "      <th>cv003_12683.txt</th>\n",
       "      <td>NaN</td>\n",
       "      <td>NaN</td>\n",
       "      <td>NaN</td>\n",
       "      <td>NaN</td>\n",
       "      <td>NaN</td>\n",
       "      <td>NaN</td>\n",
       "      <td>NaN</td>\n",
       "      <td>NaN</td>\n",
       "      <td>NaN</td>\n",
       "      <td>NaN</td>\n",
       "      <td>...</td>\n",
       "      <td>NaN</td>\n",
       "      <td>NaN</td>\n",
       "      <td>NaN</td>\n",
       "      <td>NaN</td>\n",
       "      <td>NaN</td>\n",
       "      <td>NaN</td>\n",
       "      <td>NaN</td>\n",
       "      <td>NaN</td>\n",
       "      <td>NaN</td>\n",
       "      <td>NaN</td>\n",
       "    </tr>\n",
       "    <tr>\n",
       "      <th>cv004_12641.txt</th>\n",
       "      <td>1.0</td>\n",
       "      <td>1.0</td>\n",
       "      <td>NaN</td>\n",
       "      <td>NaN</td>\n",
       "      <td>NaN</td>\n",
       "      <td>NaN</td>\n",
       "      <td>NaN</td>\n",
       "      <td>NaN</td>\n",
       "      <td>NaN</td>\n",
       "      <td>NaN</td>\n",
       "      <td>...</td>\n",
       "      <td>NaN</td>\n",
       "      <td>NaN</td>\n",
       "      <td>NaN</td>\n",
       "      <td>NaN</td>\n",
       "      <td>NaN</td>\n",
       "      <td>NaN</td>\n",
       "      <td>NaN</td>\n",
       "      <td>NaN</td>\n",
       "      <td>NaN</td>\n",
       "      <td>NaN</td>\n",
       "    </tr>\n",
       "    <tr>\n",
       "      <th>...</th>\n",
       "      <td>...</td>\n",
       "      <td>...</td>\n",
       "      <td>...</td>\n",
       "      <td>...</td>\n",
       "      <td>...</td>\n",
       "      <td>...</td>\n",
       "      <td>...</td>\n",
       "      <td>...</td>\n",
       "      <td>...</td>\n",
       "      <td>...</td>\n",
       "      <td>...</td>\n",
       "      <td>...</td>\n",
       "      <td>...</td>\n",
       "      <td>...</td>\n",
       "      <td>...</td>\n",
       "      <td>...</td>\n",
       "      <td>...</td>\n",
       "      <td>...</td>\n",
       "      <td>...</td>\n",
       "      <td>...</td>\n",
       "      <td>...</td>\n",
       "    </tr>\n",
       "    <tr>\n",
       "      <th>cv995_23113.txt</th>\n",
       "      <td>2.0</td>\n",
       "      <td>1.0</td>\n",
       "      <td>NaN</td>\n",
       "      <td>NaN</td>\n",
       "      <td>1.0</td>\n",
       "      <td>6.0</td>\n",
       "      <td>NaN</td>\n",
       "      <td>NaN</td>\n",
       "      <td>NaN</td>\n",
       "      <td>3.0</td>\n",
       "      <td>...</td>\n",
       "      <td>NaN</td>\n",
       "      <td>NaN</td>\n",
       "      <td>NaN</td>\n",
       "      <td>NaN</td>\n",
       "      <td>NaN</td>\n",
       "      <td>NaN</td>\n",
       "      <td>NaN</td>\n",
       "      <td>NaN</td>\n",
       "      <td>NaN</td>\n",
       "      <td>NaN</td>\n",
       "    </tr>\n",
       "    <tr>\n",
       "      <th>cv996_12447.txt</th>\n",
       "      <td>1.0</td>\n",
       "      <td>2.0</td>\n",
       "      <td>NaN</td>\n",
       "      <td>NaN</td>\n",
       "      <td>NaN</td>\n",
       "      <td>NaN</td>\n",
       "      <td>NaN</td>\n",
       "      <td>NaN</td>\n",
       "      <td>NaN</td>\n",
       "      <td>1.0</td>\n",
       "      <td>...</td>\n",
       "      <td>NaN</td>\n",
       "      <td>NaN</td>\n",
       "      <td>NaN</td>\n",
       "      <td>NaN</td>\n",
       "      <td>NaN</td>\n",
       "      <td>NaN</td>\n",
       "      <td>NaN</td>\n",
       "      <td>NaN</td>\n",
       "      <td>NaN</td>\n",
       "      <td>NaN</td>\n",
       "    </tr>\n",
       "    <tr>\n",
       "      <th>cv997_5152.txt</th>\n",
       "      <td>1.0</td>\n",
       "      <td>NaN</td>\n",
       "      <td>NaN</td>\n",
       "      <td>NaN</td>\n",
       "      <td>2.0</td>\n",
       "      <td>NaN</td>\n",
       "      <td>NaN</td>\n",
       "      <td>NaN</td>\n",
       "      <td>NaN</td>\n",
       "      <td>1.0</td>\n",
       "      <td>...</td>\n",
       "      <td>NaN</td>\n",
       "      <td>NaN</td>\n",
       "      <td>NaN</td>\n",
       "      <td>NaN</td>\n",
       "      <td>NaN</td>\n",
       "      <td>NaN</td>\n",
       "      <td>NaN</td>\n",
       "      <td>NaN</td>\n",
       "      <td>NaN</td>\n",
       "      <td>NaN</td>\n",
       "    </tr>\n",
       "    <tr>\n",
       "      <th>cv998_15691.txt</th>\n",
       "      <td>NaN</td>\n",
       "      <td>NaN</td>\n",
       "      <td>NaN</td>\n",
       "      <td>NaN</td>\n",
       "      <td>NaN</td>\n",
       "      <td>1.0</td>\n",
       "      <td>NaN</td>\n",
       "      <td>NaN</td>\n",
       "      <td>NaN</td>\n",
       "      <td>NaN</td>\n",
       "      <td>...</td>\n",
       "      <td>NaN</td>\n",
       "      <td>NaN</td>\n",
       "      <td>NaN</td>\n",
       "      <td>NaN</td>\n",
       "      <td>NaN</td>\n",
       "      <td>NaN</td>\n",
       "      <td>NaN</td>\n",
       "      <td>NaN</td>\n",
       "      <td>NaN</td>\n",
       "      <td>NaN</td>\n",
       "    </tr>\n",
       "    <tr>\n",
       "      <th>cv999_14636.txt</th>\n",
       "      <td>NaN</td>\n",
       "      <td>2.0</td>\n",
       "      <td>NaN</td>\n",
       "      <td>NaN</td>\n",
       "      <td>NaN</td>\n",
       "      <td>NaN</td>\n",
       "      <td>1.0</td>\n",
       "      <td>NaN</td>\n",
       "      <td>NaN</td>\n",
       "      <td>1.0</td>\n",
       "      <td>...</td>\n",
       "      <td>1.0</td>\n",
       "      <td>1.0</td>\n",
       "      <td>1.0</td>\n",
       "      <td>1.0</td>\n",
       "      <td>1.0</td>\n",
       "      <td>1.0</td>\n",
       "      <td>1.0</td>\n",
       "      <td>1.0</td>\n",
       "      <td>2.0</td>\n",
       "      <td>1.0</td>\n",
       "    </tr>\n",
       "  </tbody>\n",
       "</table>\n",
       "<p>1000 rows × 31916 columns</p>\n",
       "</div>"
      ],
      "text/plain": [
       "                 plot  two  teen  couples   go  church  party  drink  drive  \\\n",
       "cv000_29416.txt   1.0  2.0   4.0      1.0  2.0     1.0    1.0    1.0    1.0   \n",
       "cv001_19502.txt   NaN  NaN   NaN      NaN  NaN     NaN    NaN    NaN    NaN   \n",
       "cv002_17424.txt   2.0  1.0   NaN      NaN  2.0     NaN    NaN    NaN    NaN   \n",
       "cv003_12683.txt   NaN  NaN   NaN      NaN  NaN     NaN    NaN    NaN    NaN   \n",
       "cv004_12641.txt   1.0  1.0   NaN      NaN  NaN     NaN    NaN    NaN    NaN   \n",
       "...               ...  ...   ...      ...  ...     ...    ...    ...    ...   \n",
       "cv995_23113.txt   2.0  1.0   NaN      NaN  1.0     6.0    NaN    NaN    NaN   \n",
       "cv996_12447.txt   1.0  2.0   NaN      NaN  NaN     NaN    NaN    NaN    NaN   \n",
       "cv997_5152.txt    1.0  NaN   NaN      NaN  2.0     NaN    NaN    NaN    NaN   \n",
       "cv998_15691.txt   NaN  NaN   NaN      NaN  NaN     1.0    NaN    NaN    NaN   \n",
       "cv999_14636.txt   NaN  2.0   NaN      NaN  NaN     NaN    1.0    NaN    NaN   \n",
       "\n",
       "                 get  ...  butabis  fortenberry  koren  _21_jump_street_  \\\n",
       "cv000_29416.txt  3.0  ...      NaN          NaN    NaN               NaN   \n",
       "cv001_19502.txt  1.0  ...      NaN          NaN    NaN               NaN   \n",
       "cv002_17424.txt  NaN  ...      NaN          NaN    NaN               NaN   \n",
       "cv003_12683.txt  NaN  ...      NaN          NaN    NaN               NaN   \n",
       "cv004_12641.txt  NaN  ...      NaN          NaN    NaN               NaN   \n",
       "...              ...  ...      ...          ...    ...               ...   \n",
       "cv995_23113.txt  3.0  ...      NaN          NaN    NaN               NaN   \n",
       "cv996_12447.txt  1.0  ...      NaN          NaN    NaN               NaN   \n",
       "cv997_5152.txt   1.0  ...      NaN          NaN    NaN               NaN   \n",
       "cv998_15691.txt  NaN  ...      NaN          NaN    NaN               NaN   \n",
       "cv999_14636.txt  1.0  ...      1.0          1.0    1.0               1.0   \n",
       "\n",
       "                 obeys  rift  messiness  stonily  _jerry_maguire_  _have_  \n",
       "cv000_29416.txt    NaN   NaN        NaN      NaN              NaN     NaN  \n",
       "cv001_19502.txt    NaN   NaN        NaN      NaN              NaN     NaN  \n",
       "cv002_17424.txt    NaN   NaN        NaN      NaN              NaN     NaN  \n",
       "cv003_12683.txt    NaN   NaN        NaN      NaN              NaN     NaN  \n",
       "cv004_12641.txt    NaN   NaN        NaN      NaN              NaN     NaN  \n",
       "...                ...   ...        ...      ...              ...     ...  \n",
       "cv995_23113.txt    NaN   NaN        NaN      NaN              NaN     NaN  \n",
       "cv996_12447.txt    NaN   NaN        NaN      NaN              NaN     NaN  \n",
       "cv997_5152.txt     NaN   NaN        NaN      NaN              NaN     NaN  \n",
       "cv998_15691.txt    NaN   NaN        NaN      NaN              NaN     NaN  \n",
       "cv999_14636.txt    1.0   1.0        1.0      1.0              2.0     1.0  \n",
       "\n",
       "[1000 rows x 31916 columns]"
      ]
     },
     "execution_count": 12,
     "metadata": {},
     "output_type": "execute_result"
    }
   ],
   "source": [
    "negdf"
   ]
  },
  {
   "cell_type": "code",
   "execution_count": 13,
   "metadata": {
    "colab": {
     "base_uri": "https://localhost:8080/",
     "height": 473
    },
    "id": "675Gif5FR9t9",
    "outputId": "b4bd08cc-7ab5-4b4d-c37f-dd236a2cf0ab"
   },
   "outputs": [
    {
     "data": {
      "text/html": [
       "<div>\n",
       "<style scoped>\n",
       "    .dataframe tbody tr th:only-of-type {\n",
       "        vertical-align: middle;\n",
       "    }\n",
       "\n",
       "    .dataframe tbody tr th {\n",
       "        vertical-align: top;\n",
       "    }\n",
       "\n",
       "    .dataframe thead th {\n",
       "        text-align: right;\n",
       "    }\n",
       "</style>\n",
       "<table border=\"1\" class=\"dataframe\">\n",
       "  <thead>\n",
       "    <tr style=\"text-align: right;\">\n",
       "      <th></th>\n",
       "      <th>films</th>\n",
       "      <th>adapted</th>\n",
       "      <th>comic</th>\n",
       "      <th>books</th>\n",
       "      <th>plenty</th>\n",
       "      <th>success</th>\n",
       "      <th>whether</th>\n",
       "      <th>superheroes</th>\n",
       "      <th>batman</th>\n",
       "      <th>superman</th>\n",
       "      <th>...</th>\n",
       "      <th>cage-world</th>\n",
       "      <th>snoots</th>\n",
       "      <th>obstructions</th>\n",
       "      <th>obscuring</th>\n",
       "      <th>tangerine</th>\n",
       "      <th>timbre</th>\n",
       "      <th>powaqqatsi</th>\n",
       "      <th>keyboardist</th>\n",
       "      <th>capitalized</th>\n",
       "      <th>clicked</th>\n",
       "    </tr>\n",
       "  </thead>\n",
       "  <tbody>\n",
       "    <tr>\n",
       "      <th>cv000_29590.txt</th>\n",
       "      <td>1.0</td>\n",
       "      <td>1.0</td>\n",
       "      <td>5.0</td>\n",
       "      <td>1.0</td>\n",
       "      <td>1.0</td>\n",
       "      <td>1.0</td>\n",
       "      <td>1.0</td>\n",
       "      <td>1.0</td>\n",
       "      <td>1.0</td>\n",
       "      <td>1.0</td>\n",
       "      <td>...</td>\n",
       "      <td>NaN</td>\n",
       "      <td>NaN</td>\n",
       "      <td>NaN</td>\n",
       "      <td>NaN</td>\n",
       "      <td>NaN</td>\n",
       "      <td>NaN</td>\n",
       "      <td>NaN</td>\n",
       "      <td>NaN</td>\n",
       "      <td>NaN</td>\n",
       "      <td>NaN</td>\n",
       "    </tr>\n",
       "    <tr>\n",
       "      <th>cv001_18431.txt</th>\n",
       "      <td>3.0</td>\n",
       "      <td>NaN</td>\n",
       "      <td>NaN</td>\n",
       "      <td>NaN</td>\n",
       "      <td>NaN</td>\n",
       "      <td>1.0</td>\n",
       "      <td>NaN</td>\n",
       "      <td>NaN</td>\n",
       "      <td>NaN</td>\n",
       "      <td>NaN</td>\n",
       "      <td>...</td>\n",
       "      <td>NaN</td>\n",
       "      <td>NaN</td>\n",
       "      <td>NaN</td>\n",
       "      <td>NaN</td>\n",
       "      <td>NaN</td>\n",
       "      <td>NaN</td>\n",
       "      <td>NaN</td>\n",
       "      <td>NaN</td>\n",
       "      <td>NaN</td>\n",
       "      <td>NaN</td>\n",
       "    </tr>\n",
       "    <tr>\n",
       "      <th>cv002_15918.txt</th>\n",
       "      <td>1.0</td>\n",
       "      <td>NaN</td>\n",
       "      <td>NaN</td>\n",
       "      <td>1.0</td>\n",
       "      <td>NaN</td>\n",
       "      <td>1.0</td>\n",
       "      <td>NaN</td>\n",
       "      <td>NaN</td>\n",
       "      <td>NaN</td>\n",
       "      <td>NaN</td>\n",
       "      <td>...</td>\n",
       "      <td>NaN</td>\n",
       "      <td>NaN</td>\n",
       "      <td>NaN</td>\n",
       "      <td>NaN</td>\n",
       "      <td>NaN</td>\n",
       "      <td>NaN</td>\n",
       "      <td>NaN</td>\n",
       "      <td>NaN</td>\n",
       "      <td>NaN</td>\n",
       "      <td>NaN</td>\n",
       "    </tr>\n",
       "    <tr>\n",
       "      <th>cv003_11664.txt</th>\n",
       "      <td>NaN</td>\n",
       "      <td>NaN</td>\n",
       "      <td>NaN</td>\n",
       "      <td>NaN</td>\n",
       "      <td>NaN</td>\n",
       "      <td>NaN</td>\n",
       "      <td>NaN</td>\n",
       "      <td>NaN</td>\n",
       "      <td>NaN</td>\n",
       "      <td>NaN</td>\n",
       "      <td>...</td>\n",
       "      <td>NaN</td>\n",
       "      <td>NaN</td>\n",
       "      <td>NaN</td>\n",
       "      <td>NaN</td>\n",
       "      <td>NaN</td>\n",
       "      <td>NaN</td>\n",
       "      <td>NaN</td>\n",
       "      <td>NaN</td>\n",
       "      <td>NaN</td>\n",
       "      <td>NaN</td>\n",
       "    </tr>\n",
       "    <tr>\n",
       "      <th>cv004_11636.txt</th>\n",
       "      <td>1.0</td>\n",
       "      <td>NaN</td>\n",
       "      <td>NaN</td>\n",
       "      <td>NaN</td>\n",
       "      <td>NaN</td>\n",
       "      <td>NaN</td>\n",
       "      <td>NaN</td>\n",
       "      <td>NaN</td>\n",
       "      <td>NaN</td>\n",
       "      <td>NaN</td>\n",
       "      <td>...</td>\n",
       "      <td>NaN</td>\n",
       "      <td>NaN</td>\n",
       "      <td>NaN</td>\n",
       "      <td>NaN</td>\n",
       "      <td>NaN</td>\n",
       "      <td>NaN</td>\n",
       "      <td>NaN</td>\n",
       "      <td>NaN</td>\n",
       "      <td>NaN</td>\n",
       "      <td>NaN</td>\n",
       "    </tr>\n",
       "    <tr>\n",
       "      <th>...</th>\n",
       "      <td>...</td>\n",
       "      <td>...</td>\n",
       "      <td>...</td>\n",
       "      <td>...</td>\n",
       "      <td>...</td>\n",
       "      <td>...</td>\n",
       "      <td>...</td>\n",
       "      <td>...</td>\n",
       "      <td>...</td>\n",
       "      <td>...</td>\n",
       "      <td>...</td>\n",
       "      <td>...</td>\n",
       "      <td>...</td>\n",
       "      <td>...</td>\n",
       "      <td>...</td>\n",
       "      <td>...</td>\n",
       "      <td>...</td>\n",
       "      <td>...</td>\n",
       "      <td>...</td>\n",
       "      <td>...</td>\n",
       "      <td>...</td>\n",
       "    </tr>\n",
       "    <tr>\n",
       "      <th>cv995_21821.txt</th>\n",
       "      <td>2.0</td>\n",
       "      <td>NaN</td>\n",
       "      <td>1.0</td>\n",
       "      <td>NaN</td>\n",
       "      <td>NaN</td>\n",
       "      <td>NaN</td>\n",
       "      <td>NaN</td>\n",
       "      <td>NaN</td>\n",
       "      <td>NaN</td>\n",
       "      <td>NaN</td>\n",
       "      <td>...</td>\n",
       "      <td>NaN</td>\n",
       "      <td>NaN</td>\n",
       "      <td>NaN</td>\n",
       "      <td>NaN</td>\n",
       "      <td>NaN</td>\n",
       "      <td>NaN</td>\n",
       "      <td>NaN</td>\n",
       "      <td>NaN</td>\n",
       "      <td>NaN</td>\n",
       "      <td>NaN</td>\n",
       "    </tr>\n",
       "    <tr>\n",
       "      <th>cv996_11592.txt</th>\n",
       "      <td>1.0</td>\n",
       "      <td>NaN</td>\n",
       "      <td>NaN</td>\n",
       "      <td>NaN</td>\n",
       "      <td>NaN</td>\n",
       "      <td>NaN</td>\n",
       "      <td>NaN</td>\n",
       "      <td>NaN</td>\n",
       "      <td>NaN</td>\n",
       "      <td>NaN</td>\n",
       "      <td>...</td>\n",
       "      <td>NaN</td>\n",
       "      <td>NaN</td>\n",
       "      <td>NaN</td>\n",
       "      <td>NaN</td>\n",
       "      <td>NaN</td>\n",
       "      <td>NaN</td>\n",
       "      <td>NaN</td>\n",
       "      <td>NaN</td>\n",
       "      <td>NaN</td>\n",
       "      <td>NaN</td>\n",
       "    </tr>\n",
       "    <tr>\n",
       "      <th>cv997_5046.txt</th>\n",
       "      <td>1.0</td>\n",
       "      <td>NaN</td>\n",
       "      <td>NaN</td>\n",
       "      <td>1.0</td>\n",
       "      <td>NaN</td>\n",
       "      <td>NaN</td>\n",
       "      <td>1.0</td>\n",
       "      <td>NaN</td>\n",
       "      <td>NaN</td>\n",
       "      <td>NaN</td>\n",
       "      <td>...</td>\n",
       "      <td>NaN</td>\n",
       "      <td>NaN</td>\n",
       "      <td>NaN</td>\n",
       "      <td>NaN</td>\n",
       "      <td>NaN</td>\n",
       "      <td>NaN</td>\n",
       "      <td>NaN</td>\n",
       "      <td>NaN</td>\n",
       "      <td>NaN</td>\n",
       "      <td>NaN</td>\n",
       "    </tr>\n",
       "    <tr>\n",
       "      <th>cv998_14111.txt</th>\n",
       "      <td>2.0</td>\n",
       "      <td>NaN</td>\n",
       "      <td>1.0</td>\n",
       "      <td>NaN</td>\n",
       "      <td>NaN</td>\n",
       "      <td>NaN</td>\n",
       "      <td>NaN</td>\n",
       "      <td>NaN</td>\n",
       "      <td>NaN</td>\n",
       "      <td>NaN</td>\n",
       "      <td>...</td>\n",
       "      <td>NaN</td>\n",
       "      <td>NaN</td>\n",
       "      <td>NaN</td>\n",
       "      <td>NaN</td>\n",
       "      <td>NaN</td>\n",
       "      <td>NaN</td>\n",
       "      <td>NaN</td>\n",
       "      <td>NaN</td>\n",
       "      <td>NaN</td>\n",
       "      <td>NaN</td>\n",
       "    </tr>\n",
       "    <tr>\n",
       "      <th>cv999_13106.txt</th>\n",
       "      <td>1.0</td>\n",
       "      <td>NaN</td>\n",
       "      <td>NaN</td>\n",
       "      <td>NaN</td>\n",
       "      <td>1.0</td>\n",
       "      <td>NaN</td>\n",
       "      <td>1.0</td>\n",
       "      <td>NaN</td>\n",
       "      <td>NaN</td>\n",
       "      <td>NaN</td>\n",
       "      <td>...</td>\n",
       "      <td>1.0</td>\n",
       "      <td>1.0</td>\n",
       "      <td>1.0</td>\n",
       "      <td>1.0</td>\n",
       "      <td>1.0</td>\n",
       "      <td>1.0</td>\n",
       "      <td>1.0</td>\n",
       "      <td>1.0</td>\n",
       "      <td>1.0</td>\n",
       "      <td>1.0</td>\n",
       "    </tr>\n",
       "  </tbody>\n",
       "</table>\n",
       "<p>1000 rows × 33896 columns</p>\n",
       "</div>"
      ],
      "text/plain": [
       "                 films  adapted  comic  books  plenty  success  whether  \\\n",
       "cv000_29590.txt    1.0      1.0    5.0    1.0     1.0      1.0      1.0   \n",
       "cv001_18431.txt    3.0      NaN    NaN    NaN     NaN      1.0      NaN   \n",
       "cv002_15918.txt    1.0      NaN    NaN    1.0     NaN      1.0      NaN   \n",
       "cv003_11664.txt    NaN      NaN    NaN    NaN     NaN      NaN      NaN   \n",
       "cv004_11636.txt    1.0      NaN    NaN    NaN     NaN      NaN      NaN   \n",
       "...                ...      ...    ...    ...     ...      ...      ...   \n",
       "cv995_21821.txt    2.0      NaN    1.0    NaN     NaN      NaN      NaN   \n",
       "cv996_11592.txt    1.0      NaN    NaN    NaN     NaN      NaN      NaN   \n",
       "cv997_5046.txt     1.0      NaN    NaN    1.0     NaN      NaN      1.0   \n",
       "cv998_14111.txt    2.0      NaN    1.0    NaN     NaN      NaN      NaN   \n",
       "cv999_13106.txt    1.0      NaN    NaN    NaN     1.0      NaN      1.0   \n",
       "\n",
       "                 superheroes  batman  superman  ...  cage-world  snoots  \\\n",
       "cv000_29590.txt          1.0     1.0       1.0  ...         NaN     NaN   \n",
       "cv001_18431.txt          NaN     NaN       NaN  ...         NaN     NaN   \n",
       "cv002_15918.txt          NaN     NaN       NaN  ...         NaN     NaN   \n",
       "cv003_11664.txt          NaN     NaN       NaN  ...         NaN     NaN   \n",
       "cv004_11636.txt          NaN     NaN       NaN  ...         NaN     NaN   \n",
       "...                      ...     ...       ...  ...         ...     ...   \n",
       "cv995_21821.txt          NaN     NaN       NaN  ...         NaN     NaN   \n",
       "cv996_11592.txt          NaN     NaN       NaN  ...         NaN     NaN   \n",
       "cv997_5046.txt           NaN     NaN       NaN  ...         NaN     NaN   \n",
       "cv998_14111.txt          NaN     NaN       NaN  ...         NaN     NaN   \n",
       "cv999_13106.txt          NaN     NaN       NaN  ...         1.0     1.0   \n",
       "\n",
       "                 obstructions  obscuring  tangerine  timbre  powaqqatsi  \\\n",
       "cv000_29590.txt           NaN        NaN        NaN     NaN         NaN   \n",
       "cv001_18431.txt           NaN        NaN        NaN     NaN         NaN   \n",
       "cv002_15918.txt           NaN        NaN        NaN     NaN         NaN   \n",
       "cv003_11664.txt           NaN        NaN        NaN     NaN         NaN   \n",
       "cv004_11636.txt           NaN        NaN        NaN     NaN         NaN   \n",
       "...                       ...        ...        ...     ...         ...   \n",
       "cv995_21821.txt           NaN        NaN        NaN     NaN         NaN   \n",
       "cv996_11592.txt           NaN        NaN        NaN     NaN         NaN   \n",
       "cv997_5046.txt            NaN        NaN        NaN     NaN         NaN   \n",
       "cv998_14111.txt           NaN        NaN        NaN     NaN         NaN   \n",
       "cv999_13106.txt           1.0        1.0        1.0     1.0         1.0   \n",
       "\n",
       "                 keyboardist  capitalized  clicked  \n",
       "cv000_29590.txt          NaN          NaN      NaN  \n",
       "cv001_18431.txt          NaN          NaN      NaN  \n",
       "cv002_15918.txt          NaN          NaN      NaN  \n",
       "cv003_11664.txt          NaN          NaN      NaN  \n",
       "cv004_11636.txt          NaN          NaN      NaN  \n",
       "...                      ...          ...      ...  \n",
       "cv995_21821.txt          NaN          NaN      NaN  \n",
       "cv996_11592.txt          NaN          NaN      NaN  \n",
       "cv997_5046.txt           NaN          NaN      NaN  \n",
       "cv998_14111.txt          NaN          NaN      NaN  \n",
       "cv999_13106.txt          1.0          1.0      1.0  \n",
       "\n",
       "[1000 rows x 33896 columns]"
      ]
     },
     "execution_count": 13,
     "metadata": {},
     "output_type": "execute_result"
    }
   ],
   "source": [
    "posdf"
   ]
  },
  {
   "cell_type": "markdown",
   "metadata": {
    "id": "V4jNnb047OA3"
   },
   "source": [
    "# **Calculate Matrix Sparsity**\n",
    " \n",
    " \n",
    "*   Transform your Pandas dataframe to a NumPy array.\n",
    "\n",
    "*   Calculate the sparsity of your term-document matrix."
   ]
  },
  {
   "cell_type": "code",
   "execution_count": 14,
   "metadata": {
    "colab": {
     "base_uri": "https://localhost:8080/"
    },
    "id": "D3Gl7ZzneGQ5",
    "outputId": "a95ac8fe-337f-419c-8315-dcb5e48de62f"
   },
   "outputs": [
    {
     "data": {
      "text/plain": [
       "array([[1., 1., 5., ..., 0., 0., 0.],\n",
       "       [3., 0., 0., ..., 0., 0., 0.],\n",
       "       [1., 0., 0., ..., 0., 0., 0.],\n",
       "       ...,\n",
       "       [1., 0., 0., ..., 0., 0., 0.],\n",
       "       [2., 0., 1., ..., 0., 0., 0.],\n",
       "       [1., 0., 0., ..., 1., 1., 1.]])"
      ]
     },
     "execution_count": 14,
     "metadata": {},
     "output_type": "execute_result"
    }
   ],
   "source": [
    "#Below we replace all 'NaN' values with zeroes and create a numpy array from our dataframe's data\n",
    "posdf.fillna(0, inplace=True)\n",
    "posdf.to_numpy()"
   ]
  },
  {
   "cell_type": "code",
   "execution_count": 15,
   "metadata": {
    "colab": {
     "base_uri": "https://localhost:8080/"
    },
    "id": "2ToiUOpReXGa",
    "outputId": "fc52fea5-dbf3-454c-cde0-e859ca12534f"
   },
   "outputs": [
    {
     "data": {
      "text/plain": [
       "array([[1., 2., 4., ..., 0., 0., 0.],\n",
       "       [0., 0., 0., ..., 0., 0., 0.],\n",
       "       [2., 1., 0., ..., 0., 0., 0.],\n",
       "       ...,\n",
       "       [1., 0., 0., ..., 0., 0., 0.],\n",
       "       [0., 0., 0., ..., 0., 0., 0.],\n",
       "       [0., 2., 0., ..., 1., 2., 1.]])"
      ]
     },
     "execution_count": 15,
     "metadata": {},
     "output_type": "execute_result"
    }
   ],
   "source": [
    "#Below we replace all 'NaN' values with zeroes and create a numpy array from our dataframe's data\n",
    "negdf.fillna(0, inplace=True)\n",
    "negdf.to_numpy()"
   ]
  },
  {
   "cell_type": "code",
   "execution_count": 16,
   "metadata": {
    "colab": {
     "base_uri": "https://localhost:8080/"
    },
    "id": "bqXZUk9jfsfu",
    "outputId": "6164ca08-f684-49b7-951f-3a46518209af"
   },
   "outputs": [
    {
     "name": "stdout",
     "output_type": "stream",
     "text": [
      "0.9917414739202266\n"
     ]
    }
   ],
   "source": [
    "#We compute the sparsity by the formula: Sparsisty = 1- (number of nonzeros/total elements)\n",
    "from numpy import count_nonzero\n",
    "sparsity = 1.0 - ( count_nonzero(posdf) / float(posdf.size) )\n",
    "print(sparsity)"
   ]
  },
  {
   "cell_type": "code",
   "execution_count": 17,
   "metadata": {
    "colab": {
     "base_uri": "https://localhost:8080/"
    },
    "id": "Ygxt1CQQfw58",
    "outputId": "99c7a5d3-5028-45d9-906a-bc3ada0380de"
   },
   "outputs": [
    {
     "name": "stdout",
     "output_type": "stream",
     "text": [
      "0.9920133475372854\n"
     ]
    }
   ],
   "source": [
    "from numpy import count_nonzero\n",
    "sparsity = 1.0 - ( count_nonzero(negdf) / float(negdf.size) )\n",
    "print(sparsity)"
   ]
  },
  {
   "cell_type": "markdown",
   "metadata": {
    "id": "ZNJmmVQf7wsG"
   },
   "source": [
    "# **Frequency Distribution Plots**\n",
    "\n",
    "* Present your word count frequency distribution plots for the positive and negative reviews. "
   ]
  },
  {
   "cell_type": "code",
   "execution_count": 18,
   "metadata": {
    "id": "vEOg7qm_kb32"
   },
   "outputs": [],
   "source": [
    "#get the frequency distribution of the words in negative reviews\n",
    "allwords = []\n",
    "for review in cleannegreviews:\n",
    "    for word in review:\n",
    "        allwords.append(word)"
   ]
  },
  {
   "cell_type": "code",
   "execution_count": 19,
   "metadata": {
    "colab": {
     "base_uri": "https://localhost:8080/"
    },
    "id": "CfiggMkbrsDC",
    "outputId": "fa7307b1-b931-4329-bad2-ba2978069ad7"
   },
   "outputs": [
    {
     "data": {
      "text/plain": [
       "330877"
      ]
     },
     "execution_count": 19,
     "metadata": {},
     "output_type": "execute_result"
    }
   ],
   "source": [
    "# how many non-stopwords are found within the 1000 negative reviews?\n",
    "len(allwords)"
   ]
  },
  {
   "cell_type": "code",
   "execution_count": 20,
   "metadata": {
    "colab": {
     "base_uri": "https://localhost:8080/"
    },
    "id": "2RQlNecSjLlX",
    "outputId": "d4b5e1ec-55ef-4313-c678-dd6dbfa538a1"
   },
   "outputs": [
    {
     "data": {
      "text/plain": [
       "31916"
      ]
     },
     "execution_count": 20,
     "metadata": {},
     "output_type": "execute_result"
    }
   ],
   "source": [
    "# how many distinct non-stopwords are found across the 1000 negative reviews?\n",
    "len(nltk.FreqDist(allwords))"
   ]
  },
  {
   "cell_type": "code",
   "execution_count": 21,
   "metadata": {
    "colab": {
     "base_uri": "https://localhost:8080/"
    },
    "id": "B7UvGVijjTWU",
    "outputId": "f7e0a651-0df5-49f6-f6e7-2872d13348ab"
   },
   "outputs": [
    {
     "data": {
      "text/plain": [
       "FreqDist({'film': 4257, 'movie': 3174, 'one': 2639, 'like': 1833, 'even': 1381, 'would': 1185, 'good': 1126, 'time': 1111, 'get': 1039, 'bad': 1019, ...})"
      ]
     },
     "execution_count": 21,
     "metadata": {},
     "output_type": "execute_result"
    }
   ],
   "source": [
    "# what is the frequency distribution of the distinct words?\n",
    "negfreq = nltk.FreqDist(allwords)\n",
    "negfreq"
   ]
  },
  {
   "cell_type": "code",
   "execution_count": 22,
   "metadata": {
    "colab": {
     "base_uri": "https://localhost:8080/",
     "height": 322
    },
    "id": "o9_rd-4AfIYQ",
    "outputId": "d001aa2b-84a4-4a21-ffb8-5e56c4044f86"
   },
   "outputs": [
    {
     "data": {
      "image/png": "[encoded data removed]",
      "text/plain": [
       "<Figure size 432x288 with 1 Axes>"
      ]
     },
     "metadata": {
      "needs_background": "light"
     },
     "output_type": "display_data"
    },
    {
     "data": {
      "text/plain": [
       "<AxesSubplot:xlabel='Samples', ylabel='Counts'>"
      ]
     },
     "execution_count": 22,
     "metadata": {},
     "output_type": "execute_result"
    }
   ],
   "source": [
    "# plot the frequency distribution of the top 30 words from the set of negative reviews\n",
    "plot_neg_freq = negfreq.plot(30, cumulative=False)\n",
    "plot_neg_freq"
   ]
  },
  {
   "cell_type": "code",
   "execution_count": 23,
   "metadata": {
    "id": "KXoZsN1tkkgM"
   },
   "outputs": [],
   "source": [
    "# get the frequency distribution of the words in positive reviews\n",
    "allwords = []\n",
    "for review in cleanposreviews:\n",
    "    for word in review:\n",
    "        allwords.append(word)"
   ]
  },
  {
   "cell_type": "code",
   "execution_count": 24,
   "metadata": {
    "colab": {
     "base_uri": "https://localhost:8080/"
    },
    "id": "frN8rzYzsAkC",
    "outputId": "bd263b03-9071-44a6-cc1c-0329797bcc58"
   },
   "outputs": [
    {
     "data": {
      "text/plain": [
       "371916"
      ]
     },
     "execution_count": 24,
     "metadata": {},
     "output_type": "execute_result"
    }
   ],
   "source": [
    "# how many non-stopwords are found within the 1000 positive reviews?\n",
    "len(allwords)"
   ]
  },
  {
   "cell_type": "code",
   "execution_count": 25,
   "metadata": {
    "colab": {
     "base_uri": "https://localhost:8080/"
    },
    "id": "9MARCnFqkm-Y",
    "outputId": "6e87a552-a29c-428c-f241-ecec40fcf165"
   },
   "outputs": [
    {
     "data": {
      "text/plain": [
       "33896"
      ]
     },
     "execution_count": 25,
     "metadata": {},
     "output_type": "execute_result"
    }
   ],
   "source": [
    "# how many distinct non-stopwords are found across the 1000 positive reviews?\n",
    "len(nltk.FreqDist(allwords))"
   ]
  },
  {
   "cell_type": "code",
   "execution_count": 26,
   "metadata": {
    "colab": {
     "base_uri": "https://localhost:8080/"
    },
    "id": "FAqq_YCYkp8v",
    "outputId": "c89befbd-0063-4c5d-9ddf-caf0054c81c6"
   },
   "outputs": [
    {
     "data": {
      "text/plain": [
       "FreqDist({'film': 5186, 'one': 2943, 'movie': 2497, 'like': 1714, 'story': 1232, 'also': 1200, 'good': 1190, 'even': 1175, 'time': 1171, 'would': 1079, ...})"
      ]
     },
     "execution_count": 26,
     "metadata": {},
     "output_type": "execute_result"
    }
   ],
   "source": [
    "# what is the frequency distribution of the distinct words?\n",
    "\n",
    "posfreq = nltk.FreqDist(allwords)\n",
    "posfreq"
   ]
  },
  {
   "cell_type": "code",
   "execution_count": 27,
   "metadata": {
    "colab": {
     "base_uri": "https://localhost:8080/",
     "height": 322
    },
    "id": "mFUb8l1XktUr",
    "outputId": "d90a1386-892c-4326-c59e-c2a4bef7b001"
   },
   "outputs": [
    {
     "data": {
      "image/png": "[encoded data removed]",
      "text/plain": [
       "<Figure size 432x288 with 1 Axes>"
      ]
     },
     "metadata": {
      "needs_background": "light"
     },
     "output_type": "display_data"
    },
    {
     "data": {
      "text/plain": [
       "<AxesSubplot:xlabel='Samples', ylabel='Counts'>"
      ]
     },
     "execution_count": 27,
     "metadata": {},
     "output_type": "execute_result"
    }
   ],
   "source": [
    "# plot the frequency distribution of the top 30 words from the set of positive reviews\n",
    "plot_pos_freq = posfreq.plot(30, cumulative=False)\n",
    "plot_pos_freq"
   ]
  },
  {
   "cell_type": "markdown",
   "metadata": {
    "id": "o1qcPrkr76d9"
   },
   "source": [
    "# **Sentiment Analysis Model Preparation**\n",
    "\n",
    "* Present the process by which you separated the count vectors into training and testing subsets."
   ]
  },
  {
   "cell_type": "markdown",
   "metadata": {
    "id": "CePBVFAFxsyd"
   },
   "source": [
    "Now that you have successfully constructed and properly labeled the term-document matrix entries for each of the 2000 individual movie reviews, randomly sample 75% of the vectors contained within the term-document matrix for use as a model training data subset while leaving the remaining 25% of the vectors for the model testing data subset.\n",
    "\n",
    "\n",
    " How you choose to split the data is up to you as the data science / Python practitioner to decide. Be sure to display samples of your training and testing subsets to a reader of your work. \n",
    " \n",
    " \n",
    " Also, tell us how many documents are contained within your training subset? How many documents are contained in your testing subset? \n",
    " \n",
    " How many positive and negative reviews are contained within each subset? \n",
    " \n",
    " \n",
    " Does the mix of positive and negative reviews appear to be relatively balanced within each of the subsets? Be sure to provide a suitable explanatory narrative in the form of formatted Markdown cells."
   ]
  },
  {
   "cell_type": "code",
   "execution_count": 28,
   "metadata": {
    "id": "FwoBy6wC1CJQ"
   },
   "outputs": [],
   "source": [
    "# load the string library: will be used to help remove punctuation\n",
    "import string\n",
    "\n",
    "# feature extractor function\n",
    "def feature_extractor(words):\n",
    "    ''' this function removes English language stop words + punctuation from \n",
    "    a provided list of character strings and then creates a dictionary using\n",
    "    the remaining words. The dictionary is comprised of key:value pairs wherein\n",
    "    the key is a word from the list and the value is the Python keyword True. The True\n",
    "    keyword MUST be used as the value to enable the use of the NLTK naive bayes classifier function.'''\n",
    "    \n",
    "    # define a new list to store the words we will retain from the 'words' list\n",
    "    words_clean = []\n",
    " \n",
    "    # iterate through each word in the list\n",
    "    for word in words:\n",
    "        # convert all characters to lowercase for consistency\n",
    "        word = word.lower()\n",
    "        \n",
    "        # if the word is not a stop word and is not a punctuation character add it to clean word list      \n",
    "        if word not in en_stops and word not in string.punctuation:\n",
    "            words_clean.append(word)\n",
    "    \n",
    "    words_dictionary = dict([word, True] for word in words_clean)\n",
    "    \n",
    "    return words_dictionary"
   ]
  },
  {
   "cell_type": "code",
   "execution_count": 29,
   "metadata": {
    "id": "e5I3DDGP0rkz"
   },
   "outputs": [],
   "source": [
    "# positive reviews feature set\n",
    "pos_reviews_set = []\n",
    "for words in posreviews:\n",
    "    pos_reviews_set.append((feature_extractor(words), 'pos'))\n",
    "    \n",
    "# negative reviews feature set\n",
    "neg_reviews_set = []\n",
    "for words in negreviews:\n",
    "    neg_reviews_set.append((feature_extractor(words), 'neg'))"
   ]
  },
  {
   "cell_type": "code",
   "execution_count": 30,
   "metadata": {
    "id": "KHGt4Ce4yy84"
   },
   "outputs": [],
   "source": [
    "# import the 'shuffle' function: we will randomize the order of the reviews \n",
    "from random import shuffle \n",
    "shuffle(cleannegreviews)\n",
    "shuffle(cleanposreviews)\n",
    "\n",
    "# take 12.5% of positive + 12.5% of negative reviews to create a testing data set\n",
    "test_set = pos_reviews_set[:125] + neg_reviews_set[:125]\n",
    "# randomize the testing data set\n",
    "shuffle(test_set)\n",
    "\n",
    "# take 37.5% of positive + 37.5% of negative reviews to create a training data set\n",
    "train_set = pos_reviews_set[375:] + neg_reviews_set[375:]\n",
    "# randomize the training data set\n",
    "shuffle(train_set)"
   ]
  },
  {
   "cell_type": "code",
   "execution_count": 31,
   "metadata": {
    "colab": {
     "base_uri": "https://localhost:8080/"
    },
    "id": "vfRif1yv0bZ-",
    "outputId": "d9bb3cfa-6cfc-4d50-f490-ba5c01f78f89"
   },
   "outputs": [
    {
     "name": "stdout",
     "output_type": "stream",
     "text": [
      "0.64\n"
     ]
    }
   ],
   "source": [
    "# load the naive bayes classifier + the classify library\n",
    "from nltk import classify\n",
    "from nltk import NaiveBayesClassifier\n",
    " \n",
    "# train the Naive Bayes classifier using a training set\n",
    "classifier = NaiveBayesClassifier.train(train_set)\n",
    "\n",
    "# now apply the naive bayes classifier to the test data set and check the accuracy of the result\n",
    "accuracy = classify.accuracy(classifier, test_set)\n",
    "print(accuracy)"
   ]
  },
  {
   "cell_type": "markdown",
   "metadata": {},
   "source": [
    "Below we portray some insights derived from the dataset. For each word we have the correlating probability of that word being within a positive movie review as opposed to negetive. The pos:neg column describes the order of the ratio an the column to its left is the probability. \n",
    "\n",
    "We bifurcated the training and testing set by taking the 75% for training and splitting it in half having 37.5% positive reviews of the 1000 reviews and having 37.5% negative reviews of the 100 reviews. ",
    "We used the same approach for the testing data set and split the remaining 25% of the set in half."
   ]
  },
  {
   "cell_type": "code",
   "execution_count": 35,
   "metadata": {
    "colab": {
     "base_uri": "https://localhost:8080/"
    },
    "id": "DA4ac0IF1ZGO",
    "outputId": "19253b93-f4ab-4d99-cf2f-d893ee5e9069"
   },
   "outputs": [
    {
     "name": "stdout",
     "output_type": "stream",
     "text": [
      "Most Informative Features\n",
      "                everyday = True              pos : neg    =     12.3 : 1.0\n",
      "                   sucks = True              neg : pos    =     12.3 : 1.0\n",
      "                  finest = True              pos : neg    =     11.8 : 1.0\n",
      "            breathtaking = True              pos : neg    =     11.0 : 1.0\n",
      "               ludicrous = True              neg : pos    =      9.8 : 1.0\n",
      "                 spoiled = True              neg : pos    =      9.7 : 1.0\n",
      "                  avoids = True              pos : neg    =      9.0 : 1.0\n",
      "                    coen = True              pos : neg    =      9.0 : 1.0\n",
      "               feel-good = True              pos : neg    =      9.0 : 1.0\n",
      "                gripping = True              pos : neg    =      9.0 : 1.0\n",
      "               maintains = True              pos : neg    =      9.0 : 1.0\n",
      "                  sloppy = True              neg : pos    =      9.0 : 1.0\n",
      "               top-notch = True              pos : neg    =      9.0 : 1.0\n",
      "                   anger = True              pos : neg    =      8.6 : 1.0\n",
      "                  cities = True              pos : neg    =      8.3 : 1.0\n",
      "                depicted = True              pos : neg    =      8.3 : 1.0\n",
      "               exquisite = True              pos : neg    =      8.3 : 1.0\n",
      "                   idiot = True              neg : pos    =      8.3 : 1.0\n",
      "                sub-plot = True              neg : pos    =      8.3 : 1.0\n",
      "                thematic = True              pos : neg    =      8.3 : 1.0\n",
      "             outstanding = True              pos : neg    =      7.9 : 1.0\n",
      "               insulting = True              neg : pos    =      7.8 : 1.0\n",
      "              refreshing = True              pos : neg    =      7.8 : 1.0\n",
      "             wonderfully = True              pos : neg    =      7.7 : 1.0\n",
      "                 admired = True              pos : neg    =      7.7 : 1.0\n",
      "               affecting = True              pos : neg    =      7.7 : 1.0\n",
      "              astounding = True              pos : neg    =      7.7 : 1.0\n",
      "             credibility = True              neg : pos    =      7.7 : 1.0\n",
      "              engrossing = True              pos : neg    =      7.7 : 1.0\n",
      "                    hugo = True              pos : neg    =      7.7 : 1.0\n",
      "None\n"
     ]
    }
   ],
   "source": [
    "# display the 30 most informative features as determined by the Naive Bayes classifier\n",
    "print (classifier.show_most_informative_features(30))"
   ]
  },
  {
   "cell_type": "code",
   "execution_count": null,
   "metadata": {},
   "outputs": [],
   "source": []
  }
 ],
 "metadata": {
  "colab": {
   "collapsed_sections": [],
   "name": "m_amsellem_M12_assn.ipynb",
   "provenance": []
  },
  "kernelspec": {
   "display_name": "Python 3",
   "language": "python",
   "name": "python3"
  },
  "language_info": {
   "codemirror_mode": {
    "name": "ipython",
    "version": 3
   },
   "file_extension": ".py",
   "mimetype": "text/x-python",
   "name": "python",
   "nbconvert_exporter": "python",
   "pygments_lexer": "ipython3",
   "version": "3.8.5"
  }
 },
 "nbformat": 4,
 "nbformat_minor": 1
}
