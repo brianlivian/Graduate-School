{
 "cells": [
  {
   "cell_type": "markdown",
   "metadata": {},
   "source": [
    "# Data Acquisition and Managment Project 1\n",
    "# Eli Amsellam,  Mazal Tov Amsellam, Brian Livian"
   ]
  },
  {
   "cell_type": "code",
   "execution_count": 359,
   "metadata": {},
   "outputs": [],
   "source": [
    "import re\n",
    "import pandas as pd\n",
    "import numpy as np"
   ]
  },
  {
   "cell_type": "code",
   "execution_count": 360,
   "metadata": {},
   "outputs": [
    {
     "data": {
      "text/plain": [
       "0          Dr. Anthony Fauci\n",
       "1    Hollingdorp, Donnatella\n",
       "2       Fitzgerald, F. Scott\n",
       "3         Rev. Martin Luther\n",
       "4        Snodgrass, Theodore\n",
       "5         Carlamina Scarfoni\n",
       "dtype: object"
      ]
     },
     "execution_count": 360,
     "metadata": {},
     "output_type": "execute_result"
    }
   ],
   "source": [
    "# 1\n",
    "#import regex\n",
    "import re\n",
    "# import Pandas library\n",
    "import pandas as pd\n",
    "import numpy as np\n",
    "#String provided in Assignment doc\n",
    "data = \"555-1239Dr. Anthony Fauci(636) 555-0113Hollingdorp, Donnatella555-6542Fitzgerald, F. Scott555 8904Rev. Martin Luther King636-555-3226Snodgrass, Theodore5553642Carlamina Scarfoni\"\n",
    "#data = pd.Series(data)\n",
    "vectors = []\n",
    "vectors = re.findall('[A-Z][a-z]*\\.\\s+[A-Z][a-z]*\\s+[A-Z][a-z]*|[A-Z][a-z]*\\D\\s+[A-Z][a-z]*\\D\\D+[A-Z][a-z]*|[A-Z][a-z]*\\D\\s+[A-Z][a-z]*', data)\n",
    "vectors = pd.Series(vectors)\n",
    "#pattern = re.compile('[A-Z][a-z]*\\.\\s+[A-Z][a-z]*\\s+[A-Z][a-z]*|[A-Z][a-z]*\\D\\s+[A-Z][a-z]*\\D\\D+[A-Z][a-z]*|[A-Z][a-z]*\\D\\s+[A-Z][a-z]*')\n",
    "#pattern.findall(data)\n",
    "#vectors = data.str.findall('[A-Z][a-z]*\\.\\s+[A-Z][a-z]*\\s+[A-Z][a-z]*|[A-Z][a-z]*\\D\\s+[A-Z][a-z]*\\D\\D+[A-Z][a-z]*|[A-Z][a-z]*\\D\\s+[A-Z][a-z]*', flags = re.IGNORECASE)\n",
    "#using re library and findall method, iterate and store from 'data' all forms of full names saved\n",
    "#vectors = re.findall('[A-Z][a-z]*\\.\\s+[A-Z][a-z]*\\s+[A-Z][a-z]*|[A-Z][a-z]*\\D\\s+[A-Z][a-z]*\\D\\D+[A-Z][a-z]*|[A-Z][a-z]*\\D\\s+[A-Z][a-z]*', data, flags = 0)\n",
    "vectors"
   ]
  },
  {
   "cell_type": "code",
   "execution_count": 361,
   "metadata": {},
   "outputs": [
    {
     "name": "stdout",
     "output_type": "stream",
     "text": [
      "0          Dr. Anthony Fauci\n",
      "1     Donnatella Hollingdorp\n",
      "2        F. Scott Fitzgerald\n",
      "3         Rev. Martin Luther\n",
      "4         Theodore Snodgrass\n",
      "5         Carlamina Scarfoni\n",
      "dtype: object\n"
     ]
    }
   ],
   "source": [
    "# 2a\n",
    "#set a pattern for first and last name\n",
    "last = re.compile(r'[A-Z][a-z]*,')\n",
    "pattern = re.compile(r'[A-Z][a-z]*[,].*')\n",
    "#set counter to assign values at proper indeces within vectors list\n",
    "counter = 0\n",
    "#loop through the list of names, use sub method to remove last name from data at the location in the list and then use findall to print it in the back of the remaining string\n",
    "for vector in vectors:\n",
    "    if(pattern.match(vector)):\n",
    "        vectors[counter] = re.sub(last,vector[vector.find(','):0],vector) + \" \" + str(re.findall(last,vectors[counter])[0][:-1])\n",
    "    counter += 1\n",
    "print(vectors)"
   ]
  },
  {
   "cell_type": "code",
   "execution_count": 362,
   "metadata": {},
   "outputs": [
    {
     "data": {
      "text/plain": [
       "0     True\n",
       "1    False\n",
       "2    False\n",
       "3     True\n",
       "4    False\n",
       "5    False\n",
       "dtype: bool"
      ]
     },
     "execution_count": 362,
     "metadata": {},
     "output_type": "execute_result"
    }
   ],
   "source": [
    "# 2b\n",
    "# Regex expression for if the individual has a title\n",
    "vectors.str.contains(r'[A-Z][a-z]{1,}\\.')"
   ]
  },
  {
   "cell_type": "code",
   "execution_count": 363,
   "metadata": {},
   "outputs": [
    {
     "data": {
      "text/plain": [
       "0    False\n",
       "1    False\n",
       "2     True\n",
       "3    False\n",
       "4    False\n",
       "5    False\n",
       "dtype: bool"
      ]
     },
     "execution_count": 363,
     "metadata": {},
     "output_type": "execute_result"
    }
   ],
   "source": [
    "# 2c\n",
    "# Regex expression for if the individual has a middle name\n",
    "vectors.str.contains(r'[A-Z].\\s.*\\s.')"
   ]
  },
  {
   "cell_type": "code",
   "execution_count": 364,
   "metadata": {},
   "outputs": [
    {
     "name": "stdout",
     "output_type": "stream",
     "text": [
      "['<title>+++BREAKING NEWS+++<title>']\n",
      "['<title>', '<title>']\n"
     ]
    }
   ],
   "source": [
    "# 3\n",
    "text = '<title>+++BREAKING NEWS+++<title>'\n",
    "test1 = re.findall('<.+>', text)\n",
    "# The given regex in test 1 does not work because the '+' qualifier is 'greedy', as the python documentation describes it\n",
    "# In other words, the '+' qualifier matches as much text as possible, therefore returning the entire string\n",
    "# To make the regex 'Non- greedy', add the '?' qualifier\n",
    "test2 = re.findall('<.+?>', text)\n",
    "print(test1)\n",
    "print(test2)"
   ]
  },
  {
   "cell_type": "code",
   "execution_count": 365,
   "metadata": {},
   "outputs": [
    {
     "name": "stdout",
     "output_type": "stream",
     "text": [
      "['-', '^', '^', '-', '^']\n",
      "['(5-3)^2=5^2-2*5*3+3^2']\n"
     ]
    }
   ],
   "source": [
    "#4\n",
    "text = '(5-3)^2=5^2-2*5*3+3^2'\n",
    "test1 = re.findall('[^0-9=+*()]+', text)\n",
    "# The given regex in test 1 does not match the equation in its entirety because of the '^' qualifier \n",
    "# The '^' qualifier compliments the set of '0-9=+*()', thus returing characters '-' and '^' from the string\n",
    "# To include the '-' and '^' in the output, move the '^' qualifier the end of the regex. This is python syntax to not \n",
    "# compile the '^' as a compliment qualifier\n",
    "# Also include a '-' in the regex to receive the desired output of the equaition in its entirety\n",
    "test2 = re.findall('[0-9=+*()^-]+', text)\n",
    "print(test1)\n",
    "print(test2)"
   ]
  },
  {
   "cell_type": "code",
   "execution_count": 366,
   "metadata": {},
   "outputs": [
    {
     "name": "stdout",
     "output_type": "stream",
     "text": [
      "0       [-----------------------------------------------------------------------------------------]\n",
      "1      [ Pair | Player Name                     |Total|Round|Round|Round|Round|Round|Round|Round| ]\n",
      "2      [ Num  | USCF ID / Rtg (Pre->Post)       | Pts |  1  |  2  |  3  |  4  |  5  |  6  |  7  | ]\n",
      "3       [-----------------------------------------------------------------------------------------]\n",
      "4       [    1 | GARY HUA                        |6.0  |W  39|W  21|W  18|W  14|W   7|D  12|D   4|]\n",
      "5       [   ON | 15445895 / R: 1794   ->1817     |N:2  |W    |B    |W    |B    |W    |B    |W    |]\n",
      "6       [-----------------------------------------------------------------------------------------]\n",
      "7       [    2 | DAKSHESH DARURI                 |6.0  |W  63|W  58|L   4|W  17|W  16|W  20|W   7|]\n",
      "8       [   MI | 14598900 / R: 1553   ->1663     |N:2  |B    |W    |B    |W    |B    |W    |B    |]\n",
      "9       [-----------------------------------------------------------------------------------------]\n",
      "10      [    3 | ADITYA BAJAJ                    |6.0  |L   8|W  61|W  25|W  21|W  11|W  13|W  12|]\n",
      "11      [   MI | 14959604 / R: 1384   ->1640     |N:2  |W    |B    |W    |B    |W    |B    |W    |]\n",
      "12      [-----------------------------------------------------------------------------------------]\n",
      "13      [    4 | PATRICK H SCHILLING             |5.5  |W  23|D  28|W   2|W  26|D   5|W  19|D   1|]\n",
      "14      [   MI | 12616049 / R: 1716   ->1744     |N:2  |W    |B    |W    |B    |W    |B    |B    |]\n",
      "15      [-----------------------------------------------------------------------------------------]\n",
      "16      [    5 | HANSHI ZUO                      |5.5  |W  45|W  37|D  12|D  13|D   4|W  14|W  17|]\n",
      "17      [   MI | 14601533 / R: 1655   ->1690     |N:2  |B    |W    |B    |W    |B    |W    |B    |]\n",
      "18      [-----------------------------------------------------------------------------------------]\n",
      "19      [    6 | HANSEN SONG                     |5.0  |W  34|D  29|L  11|W  35|D  10|W  27|W  21|]\n",
      "20      [   OH | 15055204 / R: 1686   ->1687     |N:3  |W    |B    |W    |B    |B    |W    |B    |]\n",
      "21      [-----------------------------------------------------------------------------------------]\n",
      "22      [    7 | GARY DEE SWATHELL               |5.0  |W  57|W  46|W  13|W  11|L   1|W   9|L   2|]\n",
      "23      [   MI | 11146376 / R: 1649   ->1673     |N:3  |W    |B    |W    |B    |B    |W    |W    |]\n",
      "24      [-----------------------------------------------------------------------------------------]\n",
      "25      [    8 | EZEKIEL HOUGHTON                |5.0  |W   3|W  32|L  14|L   9|W  47|W  28|W  19|]\n",
      "26      [   MI | 15142253 / R: 1641P17->1657P24  |N:3  |B    |W    |B    |W    |B    |W    |W    |]\n",
      "27      [-----------------------------------------------------------------------------------------]\n",
      "28      [    9 | STEFANO LEE                     |5.0  |W  25|L  18|W  59|W   8|W  26|L   7|W  20|]\n",
      "29      [   ON | 14954524 / R: 1411   ->1564     |N:2  |W    |B    |W    |B    |W    |B    |B    |]\n",
      "30      [-----------------------------------------------------------------------------------------]\n",
      "31      [   10 | ANVIT RAO                       |5.0  |D  16|L  19|W  55|W  31|D   6|W  25|W  18|]\n",
      "32      [   MI | 14150362 / R: 1365   ->1544     |N:3  |W    |W    |B    |B    |W    |B    |W    |]\n",
      "33      [-----------------------------------------------------------------------------------------]\n",
      "34      [   11 | CAMERON WILLIAM MC LEMAN        |4.5  |D  38|W  56|W   6|L   7|L   3|W  34|W  26|]\n",
      "35      [   MI | 12581589 / R: 1712   ->1696     |N:3  |B    |W    |B    |W    |B    |W    |B    |]\n",
      "36      [-----------------------------------------------------------------------------------------]\n",
      "37      [   12 | KENNETH J TACK                  |4.5  |W  42|W  33|D   5|W  38|H    |D   1|L   3|]\n",
      "38      [   MI | 12681257 / R: 1663   ->1670     |N:3  |W    |B    |W    |B    |     |W    |B    |]\n",
      "39      [-----------------------------------------------------------------------------------------]\n",
      "40      [   13 | TORRANCE HENRY JR               |4.5  |W  36|W  27|L   7|D   5|W  33|L   3|W  32|]\n",
      "41      [   MI | 15082995 / R: 1666   ->1662     |N:3  |B    |W    |B    |B    |W    |W    |B    |]\n",
      "42      [-----------------------------------------------------------------------------------------]\n",
      "43      [   14 | BRADLEY SHAW                    |4.5  |W  54|W  44|W   8|L   1|D  27|L   5|W  31|]\n",
      "44      [   MI | 10131499 / R: 1610   ->1618     |N:3  |W    |B    |W    |W    |B    |B    |W    |]\n",
      "45      [-----------------------------------------------------------------------------------------]\n",
      "46      [   15 | ZACHARY JAMES HOUGHTON          |4.5  |D  19|L  16|W  30|L  22|W  54|W  33|W  38|]\n",
      "47      [   MI | 15619130 / R: 1220P13->1416P20  |N:3  |B    |B    |W    |W    |B    |B    |W    |]\n",
      "48      [-----------------------------------------------------------------------------------------]\n",
      "49      [   16 | MIKE NIKITIN                    |4.0  |D  10|W  15|H    |W  39|L   2|W  36|U    |]\n",
      "50      [   MI | 10295068 / R: 1604   ->1613     |N:3  |B    |W    |     |B    |W    |B    |     |]\n",
      "51      [-----------------------------------------------------------------------------------------]\n",
      "52      [   17 | RONALD GRZEGORCZYK              |4.0  |W  48|W  41|L  26|L   2|W  23|W  22|L   5|]\n",
      "53      [   MI | 10297702 / R: 1629   ->1610     |N:3  |W    |B    |W    |B    |W    |B    |W    |]\n",
      "54      [-----------------------------------------------------------------------------------------]\n",
      "55      [   18 | DAVID SUNDEEN                   |4.0  |W  47|W   9|L   1|W  32|L  19|W  38|L  10|]\n",
      "56      [   MI | 11342094 / R: 1600   ->1600     |N:3  |B    |W    |B    |W    |B    |W    |B    |]\n",
      "57      [-----------------------------------------------------------------------------------------]\n",
      "58      [   19 | DIPANKAR ROY                    |4.0  |D  15|W  10|W  52|D  28|W  18|L   4|L   8|]\n",
      "59      [   MI | 14862333 / R: 1564   ->1570     |N:3  |W    |B    |W    |B    |W    |W    |B    |]\n",
      "60      [-----------------------------------------------------------------------------------------]\n",
      "61      [   20 | JASON ZHENG                     |4.0  |L  40|W  49|W  23|W  41|W  28|L   2|L   9|]\n",
      "62      [   MI | 14529060 / R: 1595   ->1569     |N:4  |W    |B    |W    |B    |W    |B    |W    |]\n",
      "63      [-----------------------------------------------------------------------------------------]\n",
      "64      [   21 | DINH DANG BUI                   |4.0  |W  43|L   1|W  47|L   3|W  40|W  39|L   6|]\n",
      "65      [   ON | 15495066 / R: 1563P22->1562     |N:3  |B    |W    |B    |W    |W    |B    |W    |]\n",
      "66      [-----------------------------------------------------------------------------------------]\n",
      "67      [   22 | EUGENE L MCCLURE                |4.0  |W  64|D  52|L  28|W  15|H    |L  17|W  40|]\n",
      "68      [   MI | 12405534 / R: 1555   ->1529     |N:4  |W    |B    |W    |B    |     |W    |B    |]\n",
      "69      [-----------------------------------------------------------------------------------------]\n",
      "70      [   23 | ALAN BUI                        |4.0  |L   4|W  43|L  20|W  58|L  17|W  37|W  46|]\n",
      "71      [   ON | 15030142 / R: 1363   ->1371     |     |B    |W    |B    |W    |B    |W    |B    |]\n",
      "72      [-----------------------------------------------------------------------------------------]\n",
      "73      [   24 | MICHAEL R ALDRICH               |4.0  |L  28|L  47|W  43|L  25|W  60|W  44|W  39|]\n",
      "74      [   MI | 13469010 / R: 1229   ->1300     |N:4  |B    |W    |B    |B    |W    |W    |B    |]\n",
      "75      [-----------------------------------------------------------------------------------------]\n",
      "76      [   25 | LOREN SCHWIEBERT                |3.5  |L   9|W  53|L   3|W  24|D  34|L  10|W  47|]\n",
      "77      [   MI | 12486656 / R: 1745   ->1681     |N:4  |B    |W    |B    |W    |B    |W    |B    |]\n",
      "78      [-----------------------------------------------------------------------------------------]\n",
      "79      [   26 | MAX ZHU                         |3.5  |W  49|W  40|W  17|L   4|L   9|D  32|L  11|]\n",
      "80      [   ON | 15131520 / R: 1579   ->1564     |N:4  |B    |W    |B    |W    |B    |W    |W    |]\n",
      "81      [-----------------------------------------------------------------------------------------]\n",
      "82      [   27 | GAURAV GIDWANI                  |3.5  |W  51|L  13|W  46|W  37|D  14|L   6|U    |]\n",
      "83      [   MI | 14476567 / R: 1552   ->1539     |N:4  |W    |B    |W    |B    |W    |B    |     |]\n",
      "84      [-----------------------------------------------------------------------------------------]\n",
      "85      [   28 | SOFIA ADINA STANESCU-BELLU      |3.5  |W  24|D   4|W  22|D  19|L  20|L   8|D  36|]\n",
      "86      [   MI | 14882954 / R: 1507   ->1513     |N:3  |W    |W    |B    |W    |B    |B    |W    |]\n",
      "87      [-----------------------------------------------------------------------------------------]\n",
      "88      [   29 | CHIEDOZIE OKORIE                |3.5  |W  50|D   6|L  38|L  34|W  52|W  48|U    |]\n",
      "89      [   MI | 15323285 / R: 1602P6 ->1508P12  |N:4  |B    |W    |B    |W    |W    |B    |     |]\n",
      "90      [-----------------------------------------------------------------------------------------]\n",
      "91      [   30 | GEORGE AVERY JONES              |3.5  |L  52|D  64|L  15|W  55|L  31|W  61|W  50|]\n",
      "92      [   ON | 12577178 / R: 1522   ->1444     |     |W    |B    |B    |W    |W    |B    |B    |]\n",
      "93      [-----------------------------------------------------------------------------------------]\n",
      "94      [   31 | RISHI SHETTY                    |3.5  |L  58|D  55|W  64|L  10|W  30|W  50|L  14|]\n",
      "95      [   MI | 15131618 / R: 1494   ->1444     |     |B    |W    |B    |W    |B    |W    |B    |]\n",
      "96      [-----------------------------------------------------------------------------------------]\n",
      "97      [   32 | JOSHUA PHILIP MATHEWS           |3.5  |W  61|L   8|W  44|L  18|W  51|D  26|L  13|]\n",
      "98      [   ON | 14073750 / R: 1441   ->1433     |N:4  |W    |B    |W    |B    |W    |B    |W    |]\n",
      "99      [-----------------------------------------------------------------------------------------]\n",
      "100     [   33 | JADE GE                         |3.5  |W  60|L  12|W  50|D  36|L  13|L  15|W  51|]\n",
      "101     [   MI | 14691842 / R: 1449   ->1421     |     |B    |W    |B    |W    |B    |W    |B    |]\n",
      "102     [-----------------------------------------------------------------------------------------]\n",
      "103     [   34 | MICHAEL JEFFERY THOMAS          |3.5  |L   6|W  60|L  37|W  29|D  25|L  11|W  52|]\n",
      "104     [   MI | 15051807 / R: 1399   ->1400     |     |B    |W    |B    |B    |W    |B    |W    |]\n",
      "105     [-----------------------------------------------------------------------------------------]\n",
      "106     [   35 | JOSHUA DAVID LEE                |3.5  |L  46|L  38|W  56|L   6|W  57|D  52|W  48|]\n",
      "107     [   MI | 14601397 / R: 1438   ->1392     |     |W    |W    |B    |W    |B    |B    |W    |]\n",
      "108     [-----------------------------------------------------------------------------------------]\n",
      "109     [   36 | SIDDHARTH JHA                   |3.5  |L  13|W  57|W  51|D  33|H    |L  16|D  28|]\n",
      "110     [   MI | 14773163 / R: 1355   ->1367     |N:4  |W    |B    |W    |B    |     |W    |B    |]\n",
      "111     [-----------------------------------------------------------------------------------------]\n",
      "112     [   37 | AMIYATOSH PWNANANDAM            |3.5  |B    |L   5|W  34|L  27|H    |L  23|W  61|]\n",
      "113     [   MI | 15489571 / R:  980P12->1077P17  |     |     |B    |W    |W    |     |B    |W    |]\n",
      "114     [-----------------------------------------------------------------------------------------]\n",
      "115     [   38 | BRIAN LIU                       |3.0  |D  11|W  35|W  29|L  12|H    |L  18|L  15|]\n",
      "116     [   MI | 15108523 / R: 1423   ->1439     |N:4  |W    |B    |W    |W    |     |B    |B    |]\n",
      "117     [-----------------------------------------------------------------------------------------]\n",
      "118     [   39 | JOEL R HENDON                   |3.0  |L   1|W  54|W  40|L  16|W  44|L  21|L  24|]\n",
      "119     [   MI | 12923035 / R: 1436P23->1413     |N:4  |B    |W    |B    |W    |B    |W    |W    |]\n",
      "120     [-----------------------------------------------------------------------------------------]\n",
      "121     [   40 | FOREST ZHANG                    |3.0  |W  20|L  26|L  39|W  59|L  21|W  56|L  22|]\n",
      "122     [   MI | 14892710 / R: 1348   ->1346     |     |B    |B    |W    |W    |B    |W    |W    |]\n",
      "123     [-----------------------------------------------------------------------------------------]\n",
      "124     [   41 | KYLE WILLIAM MURPHY             |3.0  |W  59|L  17|W  58|L  20|X    |U    |U    |]\n",
      "125     [   MI | 15761443 / R: 1403P5 ->1341P9   |     |B    |W    |B    |W    |     |     |     |]\n",
      "126     [-----------------------------------------------------------------------------------------]\n",
      "127     [   42 | JARED GE                        |3.0  |L  12|L  50|L  57|D  60|D  61|W  64|W  56|]\n",
      "128     [   MI | 14462326 / R: 1332   ->1256     |     |B    |W    |B    |B    |W    |W    |B    |]\n",
      "129     [-----------------------------------------------------------------------------------------]\n",
      "130     [   43 | ROBERT GLEN VASEY               |3.0  |L  21|L  23|L  24|W  63|W  59|L  46|W  55|]\n",
      "131     [   MI | 14101068 / R: 1283   ->1244     |     |W    |B    |W    |W    |B    |B    |W    |]\n",
      "132     [-----------------------------------------------------------------------------------------]\n",
      "133     [   44 | JUSTIN D SCHILLING              |3.0  |B    |L  14|L  32|W  53|L  39|L  24|W  59|]\n",
      "134     [   MI | 15323504 / R: 1199   ->1199     |     |     |W    |B    |B    |W    |B    |W    |]\n",
      "135     [-----------------------------------------------------------------------------------------]\n",
      "136     [   45 | DEREK YAN                       |3.0  |L   5|L  51|D  60|L  56|W  63|D  55|W  58|]\n",
      "137     [   MI | 15372807 / R: 1242   ->1191     |     |W    |B    |W    |B    |W    |B    |W    |]\n",
      "138     [-----------------------------------------------------------------------------------------]\n",
      "139     [   46 | JACOB ALEXANDER LAVALLEY        |3.0  |W  35|L   7|L  27|L  50|W  64|W  43|L  23|]\n",
      "140     [   MI | 15490981 / R:  377P3 ->1076P10  |     |B    |W    |B    |W    |B    |W    |W    |]\n",
      "141     [-----------------------------------------------------------------------------------------]\n",
      "142     [   47 | ERIC WRIGHT                     |2.5  |L  18|W  24|L  21|W  61|L   8|D  51|L  25|]\n",
      "143     [   MI | 12533115 / R: 1362   ->1341     |     |W    |B    |W    |B    |W    |B    |W    |]\n",
      "144     [-----------------------------------------------------------------------------------------]\n",
      "145     [   48 | DANIEL KHAIN                    |2.5  |L  17|W  63|H    |D  52|H    |L  29|L  35|]\n",
      "146     [   MI | 14369165 / R: 1382   ->1335     |     |B    |W    |     |B    |     |W    |B    |]\n",
      "147     [-----------------------------------------------------------------------------------------]\n",
      "148     [   49 | MICHAEL J MARTIN                |2.5  |L  26|L  20|D  63|D  64|W  58|H    |U    |]\n",
      "149     [   MI | 12531685 / R: 1291P12->1259P17  |     |W    |W    |B    |W    |B    |     |     |]\n",
      "150     [-----------------------------------------------------------------------------------------]\n",
      "151     [   50 | SHIVAM JHA                      |2.5  |L  29|W  42|L  33|W  46|H    |L  31|L  30|]\n",
      "152     [   MI | 14773178 / R: 1056   ->1111     |     |W    |B    |W    |B    |     |B    |W    |]\n",
      "153     [-----------------------------------------------------------------------------------------]\n",
      "154     [   51 | TEJAS AYYAGARI                  |2.5  |L  27|W  45|L  36|W  57|L  32|D  47|L  33|]\n",
      "155     [   MI | 15205474 / R: 1011   ->1097     |     |B    |W    |B    |W    |B    |W    |W    |]\n",
      "156     [-----------------------------------------------------------------------------------------]\n",
      "157     [   52 | ETHAN GUO                       |2.5  |W  30|D  22|L  19|D  48|L  29|D  35|L  34|]\n",
      "158     [   MI | 14918803 / R:  935   ->1092     |N:4  |B    |W    |B    |W    |B    |W    |B    |]\n",
      "159     [-----------------------------------------------------------------------------------------]\n",
      "160     [   53 | JOSE C YBARRA                   |2.0  |H    |L  25|H    |L  44|U    |W  57|U    |]\n",
      "161     [   MI | 12578849 / R: 1393   ->1359     |     |     |B    |     |W    |     |W    |     |]\n",
      "162     [-----------------------------------------------------------------------------------------]\n",
      "163     [   54 | LARRY HODGE                     |2.0  |L  14|L  39|L  61|B    |L  15|L  59|W  64|]\n",
      "164     [   MI | 12836773 / R: 1270   ->1200     |     |B    |B    |W    |     |W    |B    |W    |]\n",
      "165     [-----------------------------------------------------------------------------------------]\n",
      "166     [   55 | ALEX KONG                       |2.0  |L  62|D  31|L  10|L  30|B    |D  45|L  43|]\n",
      "167     [   MI | 15412571 / R: 1186   ->1163     |     |W    |B    |W    |B    |     |W    |B    |]\n",
      "168     [-----------------------------------------------------------------------------------------]\n",
      "169     [   56 | MARISA RICCI                    |2.0  |H    |L  11|L  35|W  45|H    |L  40|L  42|]\n",
      "170     [   MI | 14679887 / R: 1153   ->1140     |     |     |B    |W    |W    |     |B    |W    |]\n",
      "171     [-----------------------------------------------------------------------------------------]\n",
      "172     [   57 | MICHAEL LU                      |2.0  |L   7|L  36|W  42|L  51|L  35|L  53|B    |]\n",
      "173     [   MI | 15113330 / R: 1092   ->1079     |     |B    |W    |W    |B    |W    |B    |     |]\n",
      "174     [-----------------------------------------------------------------------------------------]\n",
      "175     [   58 | VIRAJ MOHILE                    |2.0  |W  31|L   2|L  41|L  23|L  49|B    |L  45|]\n",
      "176     [   MI | 14700365 / R:  917   -> 941     |     |W    |B    |W    |B    |W    |     |B    |]\n",
      "177     [-----------------------------------------------------------------------------------------]\n",
      "178     [   59 | SEAN M MC CORMICK               |2.0  |L  41|B    |L   9|L  40|L  43|W  54|L  44|]\n",
      "179     [   MI | 12841036 / R:  853   -> 878     |     |W    |     |B    |B    |W    |W    |B    |]\n",
      "180     [-----------------------------------------------------------------------------------------]\n",
      "181     [   60 | JULIA SHEN                      |1.5  |L  33|L  34|D  45|D  42|L  24|H    |U    |]\n",
      "182     [   MI | 14579262 / R:  967   -> 984     |     |W    |B    |B    |W    |B    |     |     |]\n",
      "183     [-----------------------------------------------------------------------------------------]\n",
      "184     [   61 | JEZZEL FARKAS                   |1.5  |L  32|L   3|W  54|L  47|D  42|L  30|L  37|]\n",
      "185     [   ON | 15771592 / R:  955P11-> 979P18  |     |B    |W    |B    |W    |B    |W    |B    |]\n",
      "186     [-----------------------------------------------------------------------------------------]\n",
      "187     [   62 | ASHWIN BALAJI                   |1.0  |W  55|U    |U    |U    |U    |U    |U    |]\n",
      "188     [   MI | 15219542 / R: 1530   ->1535     |     |B    |     |     |     |     |     |     |]\n",
      "189     [-----------------------------------------------------------------------------------------]\n",
      "190     [   63 | THOMAS JOSEPH HOSMER            |1.0  |L   2|L  48|D  49|L  43|L  45|H    |U    |]\n",
      "191     [   MI | 15057092 / R: 1175   ->1125     |     |W    |B    |W    |B    |B    |     |     |]\n",
      "192     [-----------------------------------------------------------------------------------------]\n",
      "193     [   64 | BEN LI                          |1.0  |L  22|D  30|L  31|D  49|L  46|L  42|L  54|]\n",
      "194     [   MI | 15006561 / R: 1163   ->1112     |     |B    |W    |W    |B    |W    |B    |B    |]\n",
      "195     [-----------------------------------------------------------------------------------------]\n",
      "dtype: object\n"
     ]
    }
   ],
   "source": [
    "name = []\n",
    "import csv \n",
    "with open(r\"C:\\Users\\Brian\\Documents\\Data Acquisition and Managment\\Project1.txt\") as csvfile: \n",
    "    # Import csv file\n",
    "    readCSV = csv.reader(csvfile) \n",
    "    # Convert csv file to pandas series\n",
    "    readCSV = pd.Series(readCSV)\n",
    "    # Display all rows and columns of file\n",
    "    pd.set_option(\"display.max_columns\", None)\n",
    "    pd.set_option('max_colwidth', None)\n",
    "    pd.set_option(\"max_rows\", None)\n",
    "    # Convert series into string to be able to use regex\n",
    "    text = str(readCSV)\n",
    "\n",
    "\n",
    "print(text)\n",
    "\n",
    "\n",
    "\n",
    "\n"
   ]
  },
  {
   "cell_type": "code",
   "execution_count": 367,
   "metadata": {
    "scrolled": true
   },
   "outputs": [
    {
     "name": "stdout",
     "output_type": "stream",
     "text": [
      "[' GARY HUA', ' DAKSHESH DARURI', ' ADITYA BAJAJ', ' PATRICK H SCHILLING', ' HANSHI ZUO', ' HANSEN SONG', ' GARY DEE', ' EZEKIEL HOUGHTON', ' STEFANO LEE', ' ANVIT RAO', ' CAMERON WILLIAM MC LEMAN', ' KENNETH J TACK', ' TORRANCE HENRY', ' BRADLEY SHAW', ' ZACHARY JAMES', ' MIKE NIKITIN', ' RONALD GRZEGORCZYK', ' DAVID SUNDEEN', ' DIPANKAR ROY', ' JASON ZHENG', ' DINH DANG', ' EUGENE L MCCLURE', ' ALAN BUI', ' MICHAEL R ALDRICH', ' LOREN SCHWIEBERT', ' MAX ZHU', ' GAURAV GIDWANI', ' SOFIA ADINA', ' CHIEDOZIE OKORIE', ' GEORGE AVERY', ' RISHI SHETTY', ' JOSHUA PHILIP', ' JADE GE', ' MICHAEL JEFFERY', ' JOSHUA DAVID', ' SIDDHARTH JHA', ' AMIYATOSH PWNANANDAM', ' BRIAN LIU', ' JOEL R HENDON', ' FOREST ZHANG', ' KYLE WILLIAM', ' JARED GE', ' ROBERT GLEN', ' JUSTIN D SCHILLING', ' DEREK YAN', ' JACOB ALEXANDER', ' ERIC WRIGHT', ' DANIEL KHAIN', ' MICHAEL J MARTIN', ' SHIVAM JHA', ' TEJAS AYYAGARI', ' ETHAN GUO', ' JOSE C YBARRA', ' LARRY HODGE', ' ALEX KONG', ' MARISA RICCI', ' MICHAEL LU', ' VIRAJ MOHILE', ' SEAN M MC CORMICK', ' JULIA SHEN', ' JEZZEL FARKAS', ' ASHWIN BALAJI', ' THOMAS JOSEPH', ' BEN LI']\n"
     ]
    },
    {
     "data": {
      "text/plain": [
       "64"
      ]
     },
     "execution_count": 367,
     "metadata": {},
     "output_type": "execute_result"
    }
   ],
   "source": [
    "# Create a list of names\n",
    "Names = re.findall(r'\\s[A-Z]+\\s[A-Z]+\\s[A-Z]+\\s[A-Z]+|\\s[A-Z]+\\s[A-Z]\\s\\S+|\\s[A-Z]+\\s[A-Z]+', text)\n",
    "# Delete first element which was matching a non desired outuput: 'USCF ID'\n",
    "del Names[0]\n",
    "print(Names)\n",
    "len(Names)"
   ]
  },
  {
   "cell_type": "code",
   "execution_count": 368,
   "metadata": {
    "scrolled": true
   },
   "outputs": [
    {
     "name": "stdout",
     "output_type": "stream",
     "text": [
      "['1794', '1553', '1384', '1716', '1655', '1686', '1649', '1641', '1411', '1365', '1712', '1663', '1666', '1610', '1220', '1604', '1629', '1600', '1564', '1595', '1563', '1555', '1363', '1229', '1745', '1579', '1552', '1507', '1602', '1522', '1494', '1441', '1449', '1399', '1438', '1355', ' 980', '1423', '1436', '1348', '1403', '1332', '1283', '1199', '1242', ' 377', '1362', '1382', '1291', '1056', '1011', ' 935', '1393', '1270', '1186', '1153', '1092', ' 917', ' 853', ' 967', ' 955', '1530', '1175', '1163']\n"
     ]
    },
    {
     "data": {
      "text/plain": [
       "64"
      ]
     },
     "execution_count": 368,
     "metadata": {},
     "output_type": "execute_result"
    }
   ],
   "source": [
    "# Create a list of player pre rating\n",
    "Pre_Rating = re.findall('[R][:]\\s+[0-9]+', text)\n",
    "# Removing 'R: ' from the elements in the list\n",
    "Pre_Rating = [i.replace('R: ','') for i in Pre_Rating]\n",
    "print(Pre_Rating)\n",
    "len(Pre_Rating)"
   ]
  },
  {
   "cell_type": "code",
   "execution_count": 369,
   "metadata": {},
   "outputs": [
    {
     "name": "stdout",
     "output_type": "stream",
     "text": [
      "['6.0', '6.0', '6.0', '5.5', '5.5', '5.0', '5.0', '5.0', '5.0', '5.0', '4.5', '4.5', '4.5', '4.5', '4.5', '4.0', '4.0', '4.0', '4.0', '4.0', '4.0', '4.0', '4.0', '4.0', '3.5', '3.5', '3.5', '3.5', '3.5', '3.5', '3.5', '3.5', '3.5', '3.5', '3.5', '3.5', '3.5', '3.0', '3.0', '3.0', '3.0', '3.0', '3.0', '3.0', '3.0', '3.0', '2.5', '2.5', '2.5', '2.5', '2.5', '2.5', '2.0', '2.0', '2.0', '2.0', '2.0', '2.0', '2.0', '1.5', '1.5', '1.0', '1.0', '1.0']\n"
     ]
    },
    {
     "data": {
      "text/plain": [
       "64"
      ]
     },
     "execution_count": 369,
     "metadata": {},
     "output_type": "execute_result"
    }
   ],
   "source": [
    "# List for total points\n",
    "Total_Points = re.findall('[0-9]\\.[0-9]', text)\n",
    "print(Total_Points)\n",
    "len(Total_Points)"
   ]
  },
  {
   "cell_type": "code",
   "execution_count": 370,
   "metadata": {},
   "outputs": [
    {
     "name": "stdout",
     "output_type": "stream",
     "text": [
      "['   ON', '   MI', '   MI', '   MI', '   MI', '   OH', '   MI', '   MI', '   ON', '   MI', '   MI', '   MI', '   MI', '   MI', '   MI', '   MI', '   MI', '   MI', '   MI', '   MI', '   ON', '   MI', '   ON', '   MI', '   MI', '   ON', '   MI', '   MI', '   MI', '   ON', '   MI', '   ON', '   MI', '   MI', '   MI', '   MI', '   MI', '   MI', '   MI', '   MI', '   MI', '   MI', '   MI', '   MI', '   MI', '   MI', '   MI', '   MI', '   MI', '   MI', '   MI', '   MI', '   MI', '   MI', '   MI', '   MI', '   MI', '   MI', '   MI', '   MI', '   ON', '   MI', '   MI', '   MI']\n"
     ]
    },
    {
     "data": {
      "text/plain": [
       "64"
      ]
     },
     "execution_count": 370,
     "metadata": {},
     "output_type": "execute_result"
    }
   ],
   "source": [
    "# List for state\n",
    "loc = re.findall(r'\\s{3}[A-Z][A-Z]',text)\n",
    "print(loc)\n",
    "len(loc)"
   ]
  },
  {
   "cell_type": "code",
   "execution_count": 358,
   "metadata": {},
   "outputs": [
    {
     "data": {
      "text/plain": [
       "[1605,\n",
       " 1469,\n",
       " 1563,\n",
       " 1573,\n",
       " 1500,\n",
       " 1518,\n",
       " 1372,\n",
       " 1468,\n",
       " 1523,\n",
       " 1554,\n",
       " 1467,\n",
       " 1506,\n",
       " 1497,\n",
       " 1515,\n",
       " 1483,\n",
       " 1385,\n",
       " 1498,\n",
       " 1480,\n",
       " 1426,\n",
       " 1410,\n",
       " 1470,\n",
       " 1300,\n",
       " 1213,\n",
       " 1357,\n",
       " 1363,\n",
       " 1506,\n",
       " 1221,\n",
       " 1522,\n",
       " 1313,\n",
       " 1144,\n",
       " 1259,\n",
       " 1378,\n",
       " 1276,\n",
       " 1375,\n",
       " 1149,\n",
       " 1388,\n",
       " 1384,\n",
       " 1539,\n",
       " 1429,\n",
       " 1390,\n",
       " 1248,\n",
       " 1149,\n",
       " 1106,\n",
       " 1327,\n",
       " 1152,\n",
       " 1357,\n",
       " 1392,\n",
       " 1355,\n",
       " 1285,\n",
       " 1296,\n",
       " 1356,\n",
       " 1494,\n",
       " 1345,\n",
       " 1206,\n",
       " 1406,\n",
       " 1414,\n",
       " 1363,\n",
       " 1391,\n",
       " 1319,\n",
       " 1330,\n",
       " 1327,\n",
       " 1186,\n",
       " 1350,\n",
       " 1263]"
      ]
     },
     "execution_count": 358,
     "metadata": {},
     "output_type": "execute_result"
    }
   ],
   "source": [
    "sum = []\n",
    "#go through csv file and practically take all values between '|    |' and then removing all values that arent player ids or rows and make it easier to loop through the values and only extract the number values\n",
    "nums = re.findall(r'[|]\\w\\s+[0-9]+|[|]\\w\\s+|[|]\\s{5}|[|][N:].{4}',text)\n",
    "nums = [i.replace('|W  ','') for i in nums]\n",
    "nums = [i.replace('|B  ','') for i in nums]\n",
    "nums = [i.replace('|D  ','') for i in nums]\n",
    "nums = [i.replace('|L  ','') for i in nums]\n",
    "nums = [i.replace('|H  ','') for i in nums]\n",
    "nums = [i.replace('|U  ','') for i in nums]\n",
    "nums = [i.replace(' ','') for i in nums]\n",
    "nums = [i.replace('|N:4','') for i in nums]\n",
    "nums = [i.replace('|N:3','') for i in nums]\n",
    "nums = [i.replace('|N:2','') for i in nums]\n",
    "nums = [i.replace('|','') for i in nums]\n",
    "nums = [i.replace('X','') for i in nums]\n",
    "counter = 1\n",
    "summ = 0\n",
    "tot = 0\n",
    "temp = 0\n",
    "#loop thorugh all the values extracted from utilizing the findall method with the proper pattern\n",
    "\"\"\"we reach 7 values pertaining to the row with the round numbers we need to utilize to look up the players rank so we first go through\n",
    "7 values, check the player rank of those particular values, sum them up and then once we take those 7 skip 8. 8 is because thats how many places are taken by empty values.\n",
    "once we reach the end of those 8 empty values, add that sum value of the ranks divided by the amount of actual values we found\n",
    "note some were empty because of Bis or other reasons, and divided by that to get the average. That average is then appended to a list\n",
    "sum, which we use to save all those Average Pre Tournament Chess Rating of Opponents\"\"\"\n",
    "for num in nums:\n",
    "    if(counter <= 7 ):\n",
    "        if(num != ''):\n",
    "            temp = Pre_Rating[int(num)-1]\n",
    "            summ += int (temp)\n",
    "            tot += 1\n",
    "        counter += 1\n",
    "    elif(counter < 15):\n",
    "        counter+=1\n",
    "    elif(counter == 15):\n",
    "        sum.append(int(summ/tot))\n",
    "        counter = 1\n",
    "        summ = 0   \n",
    "        tot = 0\n",
    "sum"
   ]
  },
  {
   "cell_type": "code",
   "execution_count": 357,
   "metadata": {},
   "outputs": [],
   "source": [
    "# Create dictionary with given lists\n",
    "d = {'Name': Names, 'State': loc, 'Total Number of Points': Total_Points, 'Players Pre-Rating': Pre_Rating, 'Average Pre Tournament Rating of Opponent': sum}\n",
    "# Use dictionary to create pandas dataframe\n",
    "df = pd.DataFrame(d)\n",
    "# Set index of dataframe to start from 1, to match given chess data\n",
    "df.index = np.arange(1, len(df) + 1)\n",
    "df\n",
    "df.to_csv(r\"C:\\Users\\Brian\\Documents\\Data Acquisition and Managment\\ChessData.csv\") "
   ]
  },
  {
   "cell_type": "code",
   "execution_count": null,
   "metadata": {},
   "outputs": [],
   "source": []
  }
 ],
 "metadata": {
  "kernelspec": {
   "display_name": "Python 3",
   "language": "python",
   "name": "python3"
  },
  "language_info": {
   "codemirror_mode": {
    "name": "ipython",
    "version": 3
   },
   "file_extension": ".py",
   "mimetype": "text/x-python",
   "name": "python",
   "nbconvert_exporter": "python",
   "pygments_lexer": "ipython3",
   "version": "3.8.5"
  }
 },
 "nbformat": 4,
 "nbformat_minor": 4
}
